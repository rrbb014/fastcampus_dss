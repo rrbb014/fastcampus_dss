{
 "cells": [
  {
   "cell_type": "markdown",
   "metadata": {},
   "source": [
    "# 정규화 선형회귀 (Regularization)\n",
    "\n",
    "### Ridge 와 Lasso\n",
    "\n",
    "### Ridge 회귀\n",
    "$\\text{cost} = \\sum e^2_i + \\lambda\\sum w^2_i$\n",
    "\n",
    "$e^2_i$는 잔차(residual)의 제곱합, Ridge는 가중치들의 제곱합을 최소화하기 위함이다.\n",
    "\n",
    "여기서 $\\;\\lambda\\;$는 잔차 제곱합과 추가적인 제약조건(가중치)의 비중을 조절하기위한 Hyper parameter인데,\n",
    "\n",
    "$\\lambda$가 커질수록, 정규화의 정도가 커져서 어떻게든 제약조건에 맞춰야하기때문에 가중치가 0으로 수렴한다.\n",
    "\n",
    "\n",
    "반면, $\\lambda$가 작아질수록, 정규화 정도가 작아져서 $\\lambda$가 0이 되면 일반 선형회귀 모형이 된다."
   ]
  },
  {
   "cell_type": "markdown",
   "metadata": {},
   "source": [
    "### LASSO 회귀\n",
    "$\\text{cost} = \\sum e^2_i + \\lambda\\sum \\,|\\,w_i\\,|$\n",
    "\n",
    "LASSO(Least Absolute Shrinkage and Selection Operator) 회귀 모형은 가중치의 절대값의 합을 최소화하는 것을 추가적 제약조건으로 한다.\n"
   ]
  },
  {
   "cell_type": "markdown",
   "metadata": {},
   "source": [
    "### Elastic Net 회귀 모형\n",
    "\n",
    "Elastic Net 회귀 모형은 Ridge와 LASSO 모형을 혼합한 모형이다.\n",
    "\n",
    "$\\text{cost} = \\sum e^2_i \\, + \\, \\lambda_1 \\sum \\,|\\,w_i\\,| + \\lambda_2 \\sum w^2_i $\n",
    "\n",
    "$\\lambda_1 , \\lambda_2$ 두개의 Hyper parameter를 가진다.\n",
    "\n",
    "> $\\lambda_1$ 이 0이면 Ridge, $\\lambda_2$가 0이면 LASSO.\n",
    "\n",
    "> Elastic Net은 Ridge와 LASSO를 포괄한다."
   ]
  },
  {
   "cell_type": "markdown",
   "metadata": {},
   "source": [
    "# statsmodels의 정규화 회귀 모형\n",
    "\n",
    "Elastic Net 모형만 지원. 하지만, Ridge, LASSO, Elastic Net 모두 사용 가능하지!\n",
    "\n",
    "[statsmodels 링크](http://www.statsmodels.org/dev/generated/statsmodels.regression.linear_model.OLS.fit_regularized.html)"
   ]
  },
  {
   "cell_type": "code",
   "execution_count": 28,
   "metadata": {
    "collapsed": true
   },
   "outputs": [],
   "source": [
    "import numpy as np\n",
    "import matplotlib.pylab as plt\n",
    "import seaborn as sns\n",
    "import pandas as pd\n",
    "import statsmodels.api as sm\n",
    "%matplotlib inline\n"
   ]
  },
  {
   "cell_type": "code",
   "execution_count": 30,
   "metadata": {
    "collapsed": false
   },
   "outputs": [],
   "source": [
    "np.random.seed(0)                       # random-state를 정한다.\n",
    "n_samples = 30\n",
    "X = np.sort(np.random.rand(n_samples))  # 0에서 1사이의 값 랜덤 샘플 추출(유니폼분포따름)\n",
    "y = np.cos(1.5 * np.pi * X) + np.random.randn(n_samples) * 0.1\n",
    "\n",
    "dfX = pd.DataFrame(X, columns=[\"x\"])\n",
    "dfX = sm.add_constant(dfX)              # 이모님. 여기 상수항 추가~\n",
    "dfy = pd.DataFrame(y, columns=[\"y\"])\n",
    "df = pd.concat([dfX,dfy],axis = 1)      # 칼럼으로 붙이도록!!\n",
    "\n",
    "model = sm.OLS.from_formula(\"y ~ x + I(x**2) + I(x**3) + I(x**4) + I(x**5)\", data = df)\n",
    "result1 = model.fit()\n"
   ]
  },
  {
   "cell_type": "code",
   "execution_count": 32,
   "metadata": {
    "collapsed": false
   },
   "outputs": [
    {
     "name": "stdout",
     "output_type": "stream",
     "text": [
      "                            OLS Regression Results                            \n",
      "==============================================================================\n",
      "Dep. Variable:                      y   R-squared:                       0.974\n",
      "Model:                            OLS   Adj. R-squared:                  0.969\n",
      "Method:                 Least Squares   F-statistic:                     182.9\n",
      "Date:                Tue, 14 Jun 2016   Prob (F-statistic):           2.73e-18\n",
      "Time:                        00:43:27   Log-Likelihood:                 25.117\n",
      "No. Observations:                  30   AIC:                            -38.23\n",
      "Df Residuals:                      24   BIC:                            -29.83\n",
      "Df Model:                           5                                         \n",
      "Covariance Type:            nonrobust                                         \n",
      "==============================================================================\n",
      "                 coef    std err          t      P>|t|      [95.0% Conf. Int.]\n",
      "------------------------------------------------------------------------------\n",
      "Intercept      1.1269      0.158      7.118      0.000         0.800     1.454\n",
      "x             -2.1789      3.118     -0.699      0.491        -8.615     4.257\n",
      "I(x ** 2)      0.8313     18.154      0.046      0.964       -36.637    38.299\n",
      "I(x ** 3)    -26.1798     45.097     -0.581      0.567      -119.255    66.895\n",
      "I(x ** 4)     48.6674     49.427      0.985      0.335       -53.346   150.681\n",
      "I(x ** 5)    -22.3170     19.616     -1.138      0.266       -62.802    18.168\n",
      "==============================================================================\n",
      "Omnibus:                        1.531   Durbin-Watson:                   2.272\n",
      "Prob(Omnibus):                  0.465   Jarque-Bera (JB):                1.042\n",
      "Skew:                           0.455   Prob(JB):                        0.594\n",
      "Kurtosis:                       2.936   Cond. No.                     4.62e+03\n",
      "==============================================================================\n",
      "\n",
      "Warnings:\n",
      "[1] Standard Errors assume that the covariance matrix of the errors is correctly specified.\n",
      "[2] The condition number is large, 4.62e+03. This might indicate that there are\n",
      "strong multicollinearity or other numerical problems.\n"
     ]
    }
   ],
   "source": [
    "print(result1.summary())"
   ]
  },
  {
   "cell_type": "code",
   "execution_count": 40,
   "metadata": {
    "collapsed": false
   },
   "outputs": [
    {
     "data": {
      "image/png": "[encoded data removed]",
      "text/plain": [
       "<matplotlib.figure.Figure at 0x1b7b70a11d0>"
      ]
     },
     "metadata": {},
     "output_type": "display_data"
    }
   ],
   "source": [
    "def plot_statsmodels(result):\n",
    "    plt.scatter(X,y)\n",
    "    xx = np.linspace(0,1,1000)                    # 0부터 1사이까지 1000개의 숫자 생성해주삼\n",
    "    dfxx = pd.DataFrame(xx, columns=[\"x\"])\n",
    "    dfxx = sm.add_constant(dfxx)\n",
    "    plt.plot(xx, result.predict(dfxx))\n",
    "    plt.show()\n",
    "\n",
    "plot_statsmodels(result1)"
   ]
  },
  {
   "cell_type": "code",
   "execution_count": 41,
   "metadata": {
    "collapsed": false
   },
   "outputs": [
    {
     "name": "stdout",
     "output_type": "stream",
     "text": [
      "Intercept    0.707154\n",
      "x           -2.229501\n",
      "I(x ** 2)   -0.842831\n",
      "I(x ** 3)    0.197524\n",
      "I(x ** 4)    0.813785\n",
      "I(x ** 5)    1.160351\n",
      "dtype: float64\n"
     ]
    },
    {
     "data": {
      "image/png": "[encoded data removed]",
      "text/plain": [
       "<matplotlib.figure.Figure at 0x1b7b70618d0>"
      ]
     },
     "metadata": {},
     "output_type": "display_data"
    }
   ],
   "source": [
    "result2 = model.fit_regularized(alpha=0.01, L1_wt=0)            # Ridge\n",
    "print(result2.params)\n",
    "plot_statsmodels(result2)"
   ]
  },
  {
   "cell_type": "code",
   "execution_count": 43,
   "metadata": {
    "collapsed": false
   },
   "outputs": [
    {
     "name": "stdout",
     "output_type": "stream",
     "text": [
      "Intercept    0.781925\n",
      "x           -2.655537\n",
      "I(x ** 2)   -0.253033\n",
      "I(x ** 3)    0.000000\n",
      "I(x ** 4)    0.671228\n",
      "I(x ** 5)    1.280714\n",
      "dtype: float64\n"
     ]
    },
    {
     "data": {
      "image/png": "[encoded data removed]",
      "text/plain": [
       "<matplotlib.figure.Figure at 0x1b7b8226cf8>"
      ]
     },
     "metadata": {},
     "output_type": "display_data"
    }
   ],
   "source": [
    "result3 = model.fit_regularized(alpha=0.01, L1_wt=0.5)            # Elastic Net\n",
    "print(result3.params)\n",
    "plot_statsmodels(result3)"
   ]
  },
  {
   "cell_type": "code",
   "execution_count": 44,
   "metadata": {
    "collapsed": false
   },
   "outputs": [
    {
     "name": "stdout",
     "output_type": "stream",
     "text": [
      "Intercept    0.914843\n",
      "x           -3.073134\n",
      "I(x ** 2)    0.000000\n",
      "I(x ** 3)    0.000000\n",
      "I(x ** 4)    0.000000\n",
      "I(x ** 5)    2.092835\n",
      "dtype: float64\n"
     ]
    },
    {
     "data": {
      "image/png": "[encoded data removed]",
      "text/plain": [
       "<matplotlib.figure.Figure at 0x1b7b8296d30>"
      ]
     },
     "metadata": {},
     "output_type": "display_data"
    }
   ],
   "source": [
    "result4 = model.fit_regularized(alpha=0.01, L1_wt=1)            # LASSO\n",
    "print(result4.params)\n",
    "plot_statsmodels(result4)"
   ]
  },
  {
   "cell_type": "markdown",
   "metadata": {},
   "source": [
    "# 뭔소린지는 모르겠지만 일단 공유한다!!\n",
    "\n",
    "[Ridge와 LASSO 설명 블로그](http://www.datamarket.kr/xe/?mid=board_BoGi29&document_srl=7176&listStyle=viewer)\n",
    "\n",
    "<img src=\"http://www.datamarket.kr/xe/files/attach/images/127/176/007/9b3cd0ce8fae5392cd6b3b6829b7602c_1.PNG\" width=\"320\" height=\"240\" align=\"left\"/>\n",
    "<img src=\"http://www.datamarket.kr/xe/files/attach/images/127/176/007/b6b7543bfc0abb3cbb1d66eadb340ff9.PNG\" width=\"320\" height=\"240\" align=\"center\"/>"
   ]
  },
  {
   "cell_type": "code",
   "execution_count": null,
   "metadata": {
    "collapsed": true
   },
   "outputs": [],
   "source": []
  }
 ],
 "metadata": {
  "kernelspec": {
   "display_name": "Python 3",
   "language": "python",
   "name": "python3"
  },
  "language_info": {
   "codemirror_mode": {
    "name": "ipython",
    "version": 3
   },
   "file_extension": ".py",
   "mimetype": "text/x-python",
   "name": "python",
   "nbconvert_exporter": "python",
   "pygments_lexer": "ipython3",
   "version": "3.5.1"
  }
 },
 "nbformat": 4,
 "nbformat_minor": 0
}
