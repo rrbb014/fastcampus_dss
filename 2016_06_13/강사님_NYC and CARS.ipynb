{
 "cells": [
  {
   "cell_type": "code",
   "execution_count": 2,
   "metadata": {
    "collapsed": false
   },
   "outputs": [
    {
     "data": {
      "text/html": [
       "<div>\n",
       "<table border=\"1\" class=\"dataframe\">\n",
       "  <thead>\n",
       "    <tr style=\"text-align: right;\">\n",
       "      <th></th>\n",
       "      <th>Case</th>\n",
       "      <th>Restaurant</th>\n",
       "      <th>Price</th>\n",
       "      <th>Food</th>\n",
       "      <th>Decor</th>\n",
       "      <th>Service</th>\n",
       "      <th>East</th>\n",
       "    </tr>\n",
       "  </thead>\n",
       "  <tbody>\n",
       "    <tr>\n",
       "      <th>163</th>\n",
       "      <td>164</td>\n",
       "      <td>Baci</td>\n",
       "      <td>31</td>\n",
       "      <td>17</td>\n",
       "      <td>15</td>\n",
       "      <td>16</td>\n",
       "      <td>0</td>\n",
       "    </tr>\n",
       "    <tr>\n",
       "      <th>164</th>\n",
       "      <td>165</td>\n",
       "      <td>Puccini</td>\n",
       "      <td>26</td>\n",
       "      <td>20</td>\n",
       "      <td>16</td>\n",
       "      <td>17</td>\n",
       "      <td>0</td>\n",
       "    </tr>\n",
       "    <tr>\n",
       "      <th>165</th>\n",
       "      <td>166</td>\n",
       "      <td>Bella Luna</td>\n",
       "      <td>31</td>\n",
       "      <td>18</td>\n",
       "      <td>16</td>\n",
       "      <td>17</td>\n",
       "      <td>0</td>\n",
       "    </tr>\n",
       "    <tr>\n",
       "      <th>166</th>\n",
       "      <td>167</td>\n",
       "      <td>M�tisse</td>\n",
       "      <td>38</td>\n",
       "      <td>22</td>\n",
       "      <td>17</td>\n",
       "      <td>21</td>\n",
       "      <td>0</td>\n",
       "    </tr>\n",
       "    <tr>\n",
       "      <th>167</th>\n",
       "      <td>168</td>\n",
       "      <td>Gennaro</td>\n",
       "      <td>34</td>\n",
       "      <td>24</td>\n",
       "      <td>10</td>\n",
       "      <td>16</td>\n",
       "      <td>0</td>\n",
       "    </tr>\n",
       "  </tbody>\n",
       "</table>\n",
       "</div>"
      ],
      "text/plain": [
       "     Case  Restaurant  Price  Food  Decor  Service  East\n",
       "163   164        Baci     31    17     15       16     0\n",
       "164   165     Puccini     26    20     16       17     0\n",
       "165   166  Bella Luna     31    18     16       17     0\n",
       "166   167     M�tisse     38    22     17       21     0\n",
       "167   168     Gennaro     34    24     10       16     0"
      ]
     },
     "execution_count": 2,
     "metadata": {},
     "output_type": "execute_result"
    }
   ],
   "source": [
    "df1 = pd.read_csv(\"../nyc.csv\")\n",
    "df1.tail()"
   ]
  },
  {
   "cell_type": "code",
   "execution_count": 3,
   "metadata": {
    "collapsed": false
   },
   "outputs": [
    {
     "name": "stdout",
     "output_type": "stream",
     "text": [
      "                            OLS Regression Results                            \n",
      "==============================================================================\n",
      "Dep. Variable:                  Price   R-squared:                       0.628\n",
      "Model:                            OLS   Adj. R-squared:                  0.619\n",
      "Method:                 Least Squares   F-statistic:                     68.76\n",
      "Date:                Mon, 13 Jun 2016   Prob (F-statistic):           5.35e-34\n",
      "Time:                        04:18:56   Log-Likelihood:                -529.36\n",
      "No. Observations:                 168   AIC:                             1069.\n",
      "Df Residuals:                     163   BIC:                             1084.\n",
      "Df Model:                           4                                         \n",
      "Covariance Type:            nonrobust                                         \n",
      "================================================================================\n",
      "                   coef    std err          t      P>|t|      [0.025      0.975]\n",
      "--------------------------------------------------------------------------------\n",
      "Intercept      -24.0238      4.708     -5.102      0.000     -33.321     -14.727\n",
      "C(East)[T.1]     2.0681      0.947      2.184      0.030       0.199       3.938\n",
      "Food             1.5381      0.369      4.169      0.000       0.810       2.267\n",
      "Decor            1.9101      0.217      8.802      0.000       1.482       2.339\n",
      "Service         -0.0027      0.396     -0.007      0.995      -0.785       0.780\n",
      "==============================================================================\n",
      "Omnibus:                        5.180   Durbin-Watson:                   1.760\n",
      "Prob(Omnibus):                  0.075   Jarque-Bera (JB):                5.039\n",
      "Skew:                           0.304   Prob(JB):                       0.0805\n",
      "Kurtosis:                       3.591   Cond. No.                         357.\n",
      "==============================================================================\n",
      "\n",
      "Warnings:\n",
      "[1] Standard Errors assume that the covariance matrix of the errors is correctly specified.\n"
     ]
    }
   ],
   "source": [
    "model1 = sm.OLS.from_formula(\"Price ~ Food + Decor + Service + C(East)\", data=df1)\n",
    "result1 = model1.fit()\n",
    "print(result1.summary())"
   ]
  },
  {
   "cell_type": "code",
   "execution_count": 4,
   "metadata": {
    "collapsed": false
   },
   "outputs": [
    {
     "data": {
      "text/html": [
       "<div>\n",
       "<table border=\"1\" class=\"dataframe\">\n",
       "  <thead>\n",
       "    <tr style=\"text-align: right;\">\n",
       "      <th></th>\n",
       "      <th>df</th>\n",
       "      <th>sum_sq</th>\n",
       "      <th>mean_sq</th>\n",
       "      <th>F</th>\n",
       "      <th>PR(&gt;F)</th>\n",
       "    </tr>\n",
       "  </thead>\n",
       "  <tbody>\n",
       "    <tr>\n",
       "      <th>C(East)</th>\n",
       "      <td>1.0</td>\n",
       "      <td>502.313658</td>\n",
       "      <td>502.313658</td>\n",
       "      <td>15.257019</td>\n",
       "      <td>1.371938e-04</td>\n",
       "    </tr>\n",
       "    <tr>\n",
       "      <th>Food</th>\n",
       "      <td>1.0</td>\n",
       "      <td>5248.583781</td>\n",
       "      <td>5248.583781</td>\n",
       "      <td>159.417813</td>\n",
       "      <td>6.347591e-26</td>\n",
       "    </tr>\n",
       "    <tr>\n",
       "      <th>Decor</th>\n",
       "      <td>1.0</td>\n",
       "      <td>3304.097144</td>\n",
       "      <td>3304.097144</td>\n",
       "      <td>100.356965</td>\n",
       "      <td>1.045660e-18</td>\n",
       "    </tr>\n",
       "    <tr>\n",
       "      <th>Service</th>\n",
       "      <td>1.0</td>\n",
       "      <td>0.001560</td>\n",
       "      <td>0.001560</td>\n",
       "      <td>0.000047</td>\n",
       "      <td>9.945162e-01</td>\n",
       "    </tr>\n",
       "    <tr>\n",
       "      <th>Residual</th>\n",
       "      <td>163.0</td>\n",
       "      <td>5366.521715</td>\n",
       "      <td>32.923446</td>\n",
       "      <td>NaN</td>\n",
       "      <td>NaN</td>\n",
       "    </tr>\n",
       "  </tbody>\n",
       "</table>\n",
       "</div>"
      ],
      "text/plain": [
       "             df       sum_sq      mean_sq           F        PR(>F)\n",
       "C(East)     1.0   502.313658   502.313658   15.257019  1.371938e-04\n",
       "Food        1.0  5248.583781  5248.583781  159.417813  6.347591e-26\n",
       "Decor       1.0  3304.097144  3304.097144  100.356965  1.045660e-18\n",
       "Service     1.0     0.001560     0.001560    0.000047  9.945162e-01\n",
       "Residual  163.0  5366.521715    32.923446         NaN           NaN"
      ]
     },
     "execution_count": 4,
     "metadata": {},
     "output_type": "execute_result"
    }
   ],
   "source": [
    "sm.stats.anova_lm(result1)"
   ]
  },
  {
   "cell_type": "markdown",
   "metadata": {},
   "source": [
    "# 문제2"
   ]
  },
  {
   "cell_type": "code",
   "execution_count": 6,
   "metadata": {
    "collapsed": false
   },
   "outputs": [
    {
     "data": {
      "text/html": [
       "<div>\n",
       "<table border=\"1\" class=\"dataframe\">\n",
       "  <thead>\n",
       "    <tr style=\"text-align: right;\">\n",
       "      <th></th>\n",
       "      <th>EngineSize</th>\n",
       "      <th>Cylinders</th>\n",
       "      <th>Horsepower</th>\n",
       "      <th>HighwayMPG</th>\n",
       "      <th>Weight</th>\n",
       "      <th>WheelBase</th>\n",
       "      <th>Hybrid</th>\n",
       "      <th>SuggestedRetailPrice</th>\n",
       "    </tr>\n",
       "  </thead>\n",
       "  <tbody>\n",
       "    <tr>\n",
       "      <th>0</th>\n",
       "      <td>1.6</td>\n",
       "      <td>4</td>\n",
       "      <td>103</td>\n",
       "      <td>34</td>\n",
       "      <td>2370</td>\n",
       "      <td>98</td>\n",
       "      <td>0</td>\n",
       "      <td>11690</td>\n",
       "    </tr>\n",
       "    <tr>\n",
       "      <th>1</th>\n",
       "      <td>1.6</td>\n",
       "      <td>4</td>\n",
       "      <td>103</td>\n",
       "      <td>34</td>\n",
       "      <td>2348</td>\n",
       "      <td>98</td>\n",
       "      <td>0</td>\n",
       "      <td>12585</td>\n",
       "    </tr>\n",
       "    <tr>\n",
       "      <th>2</th>\n",
       "      <td>2.2</td>\n",
       "      <td>4</td>\n",
       "      <td>140</td>\n",
       "      <td>37</td>\n",
       "      <td>2617</td>\n",
       "      <td>104</td>\n",
       "      <td>0</td>\n",
       "      <td>14610</td>\n",
       "    </tr>\n",
       "    <tr>\n",
       "      <th>3</th>\n",
       "      <td>2.2</td>\n",
       "      <td>4</td>\n",
       "      <td>140</td>\n",
       "      <td>37</td>\n",
       "      <td>2676</td>\n",
       "      <td>104</td>\n",
       "      <td>0</td>\n",
       "      <td>14810</td>\n",
       "    </tr>\n",
       "    <tr>\n",
       "      <th>4</th>\n",
       "      <td>2.2</td>\n",
       "      <td>4</td>\n",
       "      <td>140</td>\n",
       "      <td>37</td>\n",
       "      <td>2617</td>\n",
       "      <td>104</td>\n",
       "      <td>0</td>\n",
       "      <td>16385</td>\n",
       "    </tr>\n",
       "  </tbody>\n",
       "</table>\n",
       "</div>"
      ],
      "text/plain": [
       "   EngineSize  Cylinders  Horsepower  HighwayMPG  Weight  WheelBase  Hybrid  \\\n",
       "0         1.6          4         103          34    2370         98       0   \n",
       "1         1.6          4         103          34    2348         98       0   \n",
       "2         2.2          4         140          37    2617        104       0   \n",
       "3         2.2          4         140          37    2676        104       0   \n",
       "4         2.2          4         140          37    2617        104       0   \n",
       "\n",
       "   SuggestedRetailPrice  \n",
       "0                 11690  \n",
       "1                 12585  \n",
       "2                 14610  \n",
       "3                 14810  \n",
       "4                 16385  "
      ]
     },
     "execution_count": 6,
     "metadata": {},
     "output_type": "execute_result"
    }
   ],
   "source": [
    "df20 = pd.read_csv(\"../cars04.csv\")\n",
    "df2 = df20[[\"EngineSize\",\"Cylinders\",\"Horsepower\",\"HighwayMPG\",\"Weight\",\"WheelBase\",\"Hybrid\",\"SuggestedRetailPrice\"]]\n",
    "df2.head()"
   ]
  },
  {
   "cell_type": "code",
   "execution_count": null,
   "metadata": {
    "collapsed": true
   },
   "outputs": [],
   "source": [
    "model2 = sm.OLS.from_formula(\"SuggestedRetailPrice ~ EngineSize + \")"
   ]
  }
 ],
 "metadata": {
  "kernelspec": {
   "display_name": "Python 2",
   "language": "python",
   "name": "python2"
  },
  "language_info": {
   "codemirror_mode": {
    "name": "ipython",
    "version": 2
   },
   "file_extension": ".py",
   "mimetype": "text/x-python",
   "name": "python",
   "nbconvert_exporter": "python",
   "pygments_lexer": "ipython2",
   "version": "2.7.11"
  }
 },
 "nbformat": 4,
 "nbformat_minor": 0
}
