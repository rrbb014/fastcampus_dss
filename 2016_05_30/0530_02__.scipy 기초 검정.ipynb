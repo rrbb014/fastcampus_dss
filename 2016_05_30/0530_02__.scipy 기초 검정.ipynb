{
 "cells": [
  {
   "cell_type": "code",
   "execution_count": 6,
   "metadata": {
    "collapsed": true
   },
   "outputs": [],
   "source": [
    "N = 10\n",
    "theta_0 = 0.5\n",
    "x = sp.stats.bernoulli(theta_0).rvs(N)\n"
   ]
  },
  {
   "cell_type": "code",
   "execution_count": 7,
   "metadata": {
    "collapsed": false
   },
   "outputs": [
    {
     "data": {
      "text/plain": [
       "array([1, 1, 1, 1, 0, 0, 0, 0, 0, 1])"
      ]
     },
     "execution_count": 7,
     "metadata": {},
     "output_type": "execute_result"
    }
   ],
   "source": [
    "x"
   ]
  },
  {
   "cell_type": "code",
   "execution_count": 8,
   "metadata": {
    "collapsed": true
   },
   "outputs": [],
   "source": [
    "n = np.count_nonzero(x)"
   ]
  },
  {
   "cell_type": "code",
   "execution_count": 9,
   "metadata": {
    "collapsed": false
   },
   "outputs": [
    {
     "data": {
      "text/plain": [
       "5"
      ]
     },
     "execution_count": 9,
     "metadata": {},
     "output_type": "execute_result"
    }
   ],
   "source": [
    "n"
   ]
  },
  {
   "cell_type": "code",
   "execution_count": 12,
   "metadata": {
    "collapsed": false
   },
   "outputs": [
    {
     "data": {
      "text/plain": [
       "1.0"
      ]
     },
     "execution_count": 12,
     "metadata": {},
     "output_type": "execute_result"
    }
   ],
   "source": [
    "sp.stats.binom_test(n,N)"
   ]
  },
  {
   "cell_type": "code",
   "execution_count": 30,
   "metadata": {
    "collapsed": true
   },
   "outputs": [],
   "source": [
    "rv = sp.stats.binom(N, theta_0)"
   ]
  },
  {
   "cell_type": "code",
   "execution_count": 37,
   "metadata": {
    "collapsed": false
   },
   "outputs": [
    {
     "data": {
      "text/plain": [
       "0.0009765625"
      ]
     },
     "execution_count": 37,
     "metadata": {},
     "output_type": "execute_result"
    }
   ],
   "source": [
    "rv.pmf(10)"
   ]
  },
  {
   "cell_type": "code",
   "execution_count": 38,
   "metadata": {
    "collapsed": false
   },
   "outputs": [
    {
     "data": {
      "text/plain": [
       "0.171875"
      ]
     },
     "execution_count": 38,
     "metadata": {},
     "output_type": "execute_result"
    }
   ],
   "source": [
    "1 - rv.cdf(6)"
   ]
  },
  {
   "cell_type": "code",
   "execution_count": 41,
   "metadata": {
    "collapsed": false
   },
   "outputs": [
    {
     "data": {
      "text/plain": [
       "0.17187499999999994"
      ]
     },
     "execution_count": 41,
     "metadata": {},
     "output_type": "execute_result"
    }
   ],
   "source": [
    "rv.sf(6)"
   ]
  },
  {
   "cell_type": "code",
   "execution_count": 64,
   "metadata": {
    "collapsed": false
   },
   "outputs": [
    {
     "data": {
      "text/plain": [
       "0.34374999999999989"
      ]
     },
     "execution_count": 64,
     "metadata": {},
     "output_type": "execute_result"
    }
   ],
   "source": [
    "rv.sf(6) + rv.cdf(3)"
   ]
  },
  {
   "cell_type": "code",
   "execution_count": 71,
   "metadata": {
    "collapsed": false
   },
   "outputs": [],
   "source": [
    "a = rv.pmf(0) +rv.pmf(1)+rv.pmf(2)+rv.pmf(3)"
   ]
  },
  {
   "cell_type": "code",
   "execution_count": 72,
   "metadata": {
    "collapsed": false
   },
   "outputs": [],
   "source": [
    "b = rv.pmf(7)+rv.pmf(8)+rv.pmf(9)+rv.pmf(10)"
   ]
  },
  {
   "cell_type": "code",
   "execution_count": 75,
   "metadata": {
    "collapsed": false
   },
   "outputs": [
    {
     "data": {
      "text/plain": [
       "0.34374999999999989"
      ]
     },
     "execution_count": 75,
     "metadata": {},
     "output_type": "execute_result"
    }
   ],
   "source": [
    "rv.cdf(3) + rv.sf(6)"
   ]
  },
  {
   "cell_type": "code",
   "execution_count": 73,
   "metadata": {
    "collapsed": false
   },
   "outputs": [
    {
     "data": {
      "text/plain": [
       "0.34375000000000028"
      ]
     },
     "execution_count": 73,
     "metadata": {},
     "output_type": "execute_result"
    }
   ],
   "source": [
    "a + b"
   ]
  },
  {
   "cell_type": "code",
   "execution_count": 81,
   "metadata": {
    "collapsed": true
   },
   "outputs": [],
   "source": [
    "N = 10\n",
    "theta_0 = 0.1\n",
    "rv = sp.stats.bernoulli(theta_0)"
   ]
  },
  {
   "cell_type": "code",
   "execution_count": 102,
   "metadata": {
    "collapsed": false
   },
   "outputs": [
    {
     "data": {
      "text/plain": [
       "array([0, 0, 0, 0, 0, 0, 0, 0, 0, 1])"
      ]
     },
     "execution_count": 102,
     "metadata": {},
     "output_type": "execute_result"
    }
   ],
   "source": [
    "a = rv.rvs(10)\n",
    "a"
   ]
  },
  {
   "cell_type": "code",
   "execution_count": 97,
   "metadata": {
    "collapsed": false
   },
   "outputs": [],
   "source": []
  },
  {
   "cell_type": "code",
   "execution_count": 100,
   "metadata": {
    "collapsed": false
   },
   "outputs": [
    {
     "data": {
      "text/plain": [
       "0.34867844009999993"
      ]
     },
     "execution_count": 100,
     "metadata": {},
     "output_type": "execute_result"
    }
   ],
   "source": [
    "rv1.pmf(2)"
   ]
  },
  {
   "cell_type": "code",
   "execution_count": 101,
   "metadata": {
    "collapsed": false
   },
   "outputs": [
    {
     "data": {
      "text/plain": [
       "1.0"
      ]
     },
     "execution_count": 101,
     "metadata": {},
     "output_type": "execute_result"
    }
   ],
   "source": []
  },
  {
   "cell_type": "code",
   "execution_count": 110,
   "metadata": {
    "collapsed": false
   },
   "outputs": [
    {
     "data": {
      "text/plain": [
       "0.021484374999999997"
      ]
     },
     "execution_count": 110,
     "metadata": {},
     "output_type": "execute_result"
    }
   ],
   "source": [
    "sp.stats.binom_test(1,N)"
   ]
  },
  {
   "cell_type": "code",
   "execution_count": 120,
   "metadata": {
    "collapsed": true
   },
   "outputs": [],
   "source": [
    "N = 100\n",
    "theta_0 = 0.35\n",
    "x = sp.stats.bernoulli(theta_0).rvs(N)"
   ]
  },
  {
   "cell_type": "code",
   "execution_count": 121,
   "metadata": {
    "collapsed": false
   },
   "outputs": [
    {
     "data": {
      "text/plain": [
       "array([1, 0, 1, 1, 0, 1, 0, 0, 0, 0, 0, 0, 1, 0, 0, 0, 0, 1, 0, 1, 0, 1, 1,\n",
       "       0, 1, 0, 0, 0, 1, 0, 0, 0, 1, 0, 0, 0, 0, 0, 1, 0, 0, 1, 1, 1, 0, 1,\n",
       "       1, 0, 0, 0, 0, 0, 0, 1, 0, 1, 1, 1, 1, 1, 1, 1, 0, 0, 0, 0, 0, 0, 0,\n",
       "       1, 1, 1, 1, 0, 0, 1, 0, 0, 1, 0, 1, 0, 0, 0, 0, 0, 1, 0, 1, 0, 1, 0,\n",
       "       0, 0, 0, 0, 1, 0, 0, 1])"
      ]
     },
     "execution_count": 121,
     "metadata": {},
     "output_type": "execute_result"
    }
   ],
   "source": [
    "x"
   ]
  },
  {
   "cell_type": "code",
   "execution_count": 122,
   "metadata": {
    "collapsed": true
   },
   "outputs": [],
   "source": [
    "n = np.count_nonzero(x)"
   ]
  },
  {
   "cell_type": "code",
   "execution_count": 123,
   "metadata": {
    "collapsed": false
   },
   "outputs": [
    {
     "data": {
      "text/plain": [
       "38"
      ]
     },
     "execution_count": 123,
     "metadata": {},
     "output_type": "execute_result"
    }
   ],
   "source": [
    "n"
   ]
  },
  {
   "cell_type": "code",
   "execution_count": 125,
   "metadata": {
    "collapsed": false
   },
   "outputs": [
    {
     "data": {
      "text/plain": [
       "0.020978735677851718"
      ]
     },
     "execution_count": 125,
     "metadata": {},
     "output_type": "execute_result"
    }
   ],
   "source": [
    "sp.stats.binom_test(n, N)"
   ]
  },
  {
   "cell_type": "code",
   "execution_count": 130,
   "metadata": {
    "collapsed": true
   },
   "outputs": [],
   "source": [
    "N = 60\n",
    "K = 6\n",
    "theta_0 = np.ones(K)/K"
   ]
  },
  {
   "cell_type": "code",
   "execution_count": 131,
   "metadata": {
    "collapsed": false
   },
   "outputs": [
    {
     "data": {
      "text/plain": [
       "array([ 0.16666667,  0.16666667,  0.16666667,  0.16666667,  0.16666667,\n",
       "        0.16666667])"
      ]
     },
     "execution_count": 131,
     "metadata": {},
     "output_type": "execute_result"
    }
   ],
   "source": [
    "theta_0"
   ]
  },
  {
   "cell_type": "code",
   "execution_count": 132,
   "metadata": {
    "collapsed": true
   },
   "outputs": [],
   "source": [
    "x = np.random.choice(K, N, p=theta_0)"
   ]
  },
  {
   "cell_type": "code",
   "execution_count": 133,
   "metadata": {
    "collapsed": false
   },
   "outputs": [
    {
     "data": {
      "text/plain": [
       "array([4, 3, 4, 3, 4, 5, 3, 0, 1, 4, 1, 5, 1, 3, 2, 1, 3, 3, 0, 3, 4, 5, 5,\n",
       "       2, 1, 0, 4, 2, 0, 0, 4, 5, 5, 4, 5, 4, 0, 0, 1, 3, 1, 4, 5, 1, 4, 4,\n",
       "       1, 4, 2, 4, 1, 1, 5, 2, 0, 3, 4, 2, 4, 0])"
      ]
     },
     "execution_count": 133,
     "metadata": {},
     "output_type": "execute_result"
    }
   ],
   "source": [
    "x"
   ]
  },
  {
   "cell_type": "code",
   "execution_count": 134,
   "metadata": {
    "collapsed": true
   },
   "outputs": [],
   "source": [
    "n = np.bincount(x, minlength = K)"
   ]
  },
  {
   "cell_type": "code",
   "execution_count": 135,
   "metadata": {
    "collapsed": false
   },
   "outputs": [
    {
     "data": {
      "text/plain": [
       "array([ 9, 11,  6,  9, 16,  9])"
      ]
     },
     "execution_count": 135,
     "metadata": {},
     "output_type": "execute_result"
    }
   ],
   "source": [
    "n"
   ]
  },
  {
   "cell_type": "code",
   "execution_count": 136,
   "metadata": {
    "collapsed": false
   },
   "outputs": [
    {
     "data": {
      "text/plain": [
       "Power_divergenceResult(statistic=5.5999999999999996, pvalue=0.34710506828171556)"
      ]
     },
     "execution_count": 136,
     "metadata": {},
     "output_type": "execute_result"
    }
   ],
   "source": [
    "sp.stats.chisquare(n)"
   ]
  },
  {
   "cell_type": "code",
   "execution_count": 137,
   "metadata": {
    "collapsed": true
   },
   "outputs": [],
   "source": [
    "# 확률이 fair 하지 않은 주사위를 던져보자\n",
    "N = 100\n",
    "K = 6\n",
    "theta_0 = np.array([0.1, 0.1, 0.1, 0.1, 0.1, 0.5])\n",
    "x = np.random.choice(K,N, p=theta_0)"
   ]
  },
  {
   "cell_type": "code",
   "execution_count": 138,
   "metadata": {
    "collapsed": false
   },
   "outputs": [
    {
     "data": {
      "text/plain": [
       "array([5, 3, 5, 5, 5, 5, 2, 4, 3, 5, 3, 5, 5, 5, 0, 3, 3, 3, 5, 5, 5, 5, 5,\n",
       "       1, 5, 1, 5, 5, 5, 5, 5, 5, 1, 1, 2, 3, 5, 5, 5, 5, 5, 1, 5, 2, 5, 5,\n",
       "       2, 5, 5, 4, 3, 0, 5, 5, 5, 5, 5, 5, 5, 5, 1, 2, 5, 2, 2, 5, 5, 3, 5,\n",
       "       5, 5, 3, 0, 5, 5, 0, 1, 1, 3, 5, 5, 0, 5, 1, 4, 5, 3, 2, 2, 5, 1, 3,\n",
       "       1, 2, 4, 3, 4, 5, 5, 1])"
      ]
     },
     "execution_count": 138,
     "metadata": {},
     "output_type": "execute_result"
    }
   ],
   "source": [
    "n = n"
   ]
  },
  {
   "cell_type": "code",
   "execution_count": 147,
   "metadata": {
    "collapsed": false
   },
   "outputs": [
    {
     "data": {
      "image/svg+xml": [
       "<?xml version=\"1.0\" encoding=\"utf-8\" standalone=\"no\"?>\n",
       "<!DOCTYPE svg PUBLIC \"-//W3C//DTD SVG 1.1//EN\"\n",
       "  \"http://www.w3.org/Graphics/SVG/1.1/DTD/svg11.dtd\">\n",
       "<!-- Created with matplotlib (http://matplotlib.org/) -->\n",
       "<svg height=\"342pt\" version=\"1.1\" viewBox=\"0 0 490 342\" width=\"490pt\" xmlns=\"http://www.w3.org/2000/svg\" xmlns:xlink=\"http://www.w3.org/1999/xlink\">\n",
       " <defs>\n",
       "  <style type=\"text/css\">\n",
       "*{stroke-linecap:butt;stroke-linejoin:round;stroke-miterlimit:100000;}\n",
       "  </style>\n",
       " </defs>\n",
       " <g id=\"figure_1\">\n",
       "  <g id=\"patch_1\">\n",
       "   <path d=\"M 0 342.017969 \n",
       "L 490.041406 342.017969 \n",
       "L 490.041406 0 \n",
       "L 0 0 \n",
       "z\n",
       "\" style=\"fill:#ffffff;\"/>\n",
       "  </g>\n",
       "  <g id=\"axes_1\">\n",
       "   <g id=\"patch_2\">\n",
       "    <path d=\"M 33.660938 318.672656 \n",
       "L 480.060937 318.672656 \n",
       "L 480.060937 11.772656 \n",
       "L 33.660938 11.772656 \n",
       "z\n",
       "\" style=\"fill:#eaeaf2;\"/>\n",
       "   </g>\n",
       "   <g id=\"matplotlib.axis_1\">\n",
       "    <g id=\"xtick_1\">\n",
       "     <g id=\"line2d_1\">\n",
       "      <path clip-path=\"url(#p089d4bd65f)\" d=\"M 33.660938 318.672656 \n",
       "L 33.660938 11.772656 \n",
       "\" style=\"fill:none;stroke:#ffffff;stroke-linecap:round;\"/>\n",
       "     </g>\n",
       "     <g id=\"line2d_2\">\n",
       "      <defs>\n",
       "       <path d=\"M 0 0 \n",
       "L 0 0 \n",
       "\" id=\"m67af9b86a7\" style=\"stroke:#262626;\"/>\n",
       "      </defs>\n",
       "      <g>\n",
       "       <use style=\"fill:#262626;stroke:#262626;\" x=\"33.6609375\" xlink:href=\"#m67af9b86a7\" y=\"318.67265625\"/>\n",
       "      </g>\n",
       "     </g>\n",
       "     <g id=\"line2d_3\">\n",
       "      <g>\n",
       "       <use style=\"fill:#262626;stroke:#262626;\" x=\"33.6609375\" xlink:href=\"#m67af9b86a7\" y=\"11.77265625\"/>\n",
       "      </g>\n",
       "     </g>\n",
       "     <g id=\"text_1\">\n",
       "      <!-- −5 -->\n",
       "      <defs>\n",
       "       <path d=\"M 52.828125 31.203125 \n",
       "L 5.5625 31.203125 \n",
       "L 5.5625 39.40625 \n",
       "L 52.828125 39.40625 \n",
       "z\n",
       "\" id=\"ArialMT-2212\"/>\n",
       "       <path d=\"M 4.15625 18.75 \n",
       "L 13.375 19.53125 \n",
       "Q 14.40625 12.796875 18.140625 9.390625 \n",
       "Q 21.875 6 27.15625 6 \n",
       "Q 33.5 6 37.890625 10.78125 \n",
       "Q 42.28125 15.578125 42.28125 23.484375 \n",
       "Q 42.28125 31 38.0625 35.34375 \n",
       "Q 33.84375 39.703125 27 39.703125 \n",
       "Q 22.75 39.703125 19.328125 37.765625 \n",
       "Q 15.921875 35.84375 13.96875 32.765625 \n",
       "L 5.71875 33.84375 \n",
       "L 12.640625 70.609375 \n",
       "L 48.25 70.609375 \n",
       "L 48.25 62.203125 \n",
       "L 19.671875 62.203125 \n",
       "L 15.828125 42.96875 \n",
       "Q 22.265625 47.46875 29.34375 47.46875 \n",
       "Q 38.71875 47.46875 45.15625 40.96875 \n",
       "Q 51.609375 34.46875 51.609375 24.265625 \n",
       "Q 51.609375 14.546875 45.953125 7.46875 \n",
       "Q 39.0625 -1.21875 27.15625 -1.21875 \n",
       "Q 17.390625 -1.21875 11.203125 4.25 \n",
       "Q 5.03125 9.71875 4.15625 18.75 \n",
       "\" id=\"ArialMT-35\"/>\n",
       "      </defs>\n",
       "      <g style=\"fill:#262626;\" transform=\"translate(27.96015625 332.83046875)scale(0.1 -0.1)\">\n",
       "       <use xlink:href=\"#ArialMT-2212\"/>\n",
       "       <use x=\"58.3984375\" xlink:href=\"#ArialMT-35\"/>\n",
       "      </g>\n",
       "     </g>\n",
       "    </g>\n",
       "    <g id=\"xtick_2\">\n",
       "     <g id=\"line2d_4\">\n",
       "      <path clip-path=\"url(#p089d4bd65f)\" d=\"M 83.260938 318.672656 \n",
       "L 83.260938 11.772656 \n",
       "\" style=\"fill:none;stroke:#ffffff;stroke-linecap:round;\"/>\n",
       "     </g>\n",
       "     <g id=\"line2d_5\">\n",
       "      <g>\n",
       "       <use style=\"fill:#262626;stroke:#262626;\" x=\"83.2609375\" xlink:href=\"#m67af9b86a7\" y=\"318.67265625\"/>\n",
       "      </g>\n",
       "     </g>\n",
       "     <g id=\"line2d_6\">\n",
       "      <g>\n",
       "       <use style=\"fill:#262626;stroke:#262626;\" x=\"83.2609375\" xlink:href=\"#m67af9b86a7\" y=\"11.77265625\"/>\n",
       "      </g>\n",
       "     </g>\n",
       "     <g id=\"text_2\">\n",
       "      <!-- −4 -->\n",
       "      <defs>\n",
       "       <path d=\"M 32.328125 0 \n",
       "L 32.328125 17.140625 \n",
       "L 1.265625 17.140625 \n",
       "L 1.265625 25.203125 \n",
       "L 33.9375 71.578125 \n",
       "L 41.109375 71.578125 \n",
       "L 41.109375 25.203125 \n",
       "L 50.78125 25.203125 \n",
       "L 50.78125 17.140625 \n",
       "L 41.109375 17.140625 \n",
       "L 41.109375 0 \n",
       "z\n",
       "M 32.328125 25.203125 \n",
       "L 32.328125 57.46875 \n",
       "L 9.90625 25.203125 \n",
       "z\n",
       "\" id=\"ArialMT-34\"/>\n",
       "      </defs>\n",
       "      <g style=\"fill:#262626;\" transform=\"translate(77.56015625 332.83046875)scale(0.1 -0.1)\">\n",
       "       <use xlink:href=\"#ArialMT-2212\"/>\n",
       "       <use x=\"58.3984375\" xlink:href=\"#ArialMT-34\"/>\n",
       "      </g>\n",
       "     </g>\n",
       "    </g>\n",
       "    <g id=\"xtick_3\">\n",
       "     <g id=\"line2d_7\">\n",
       "      <path clip-path=\"url(#p089d4bd65f)\" d=\"M 132.860938 318.672656 \n",
       "L 132.860938 11.772656 \n",
       "\" style=\"fill:none;stroke:#ffffff;stroke-linecap:round;\"/>\n",
       "     </g>\n",
       "     <g id=\"line2d_8\">\n",
       "      <g>\n",
       "       <use style=\"fill:#262626;stroke:#262626;\" x=\"132.8609375\" xlink:href=\"#m67af9b86a7\" y=\"318.67265625\"/>\n",
       "      </g>\n",
       "     </g>\n",
       "     <g id=\"line2d_9\">\n",
       "      <g>\n",
       "       <use style=\"fill:#262626;stroke:#262626;\" x=\"132.8609375\" xlink:href=\"#m67af9b86a7\" y=\"11.77265625\"/>\n",
       "      </g>\n",
       "     </g>\n",
       "     <g id=\"text_3\">\n",
       "      <!-- −3 -->\n",
       "      <defs>\n",
       "       <path d=\"M 4.203125 18.890625 \n",
       "L 12.984375 20.0625 \n",
       "Q 14.5 12.59375 18.140625 9.296875 \n",
       "Q 21.78125 6 27 6 \n",
       "Q 33.203125 6 37.46875 10.296875 \n",
       "Q 41.75 14.59375 41.75 20.953125 \n",
       "Q 41.75 27 37.796875 30.921875 \n",
       "Q 33.84375 34.859375 27.734375 34.859375 \n",
       "Q 25.25 34.859375 21.53125 33.890625 \n",
       "L 22.515625 41.609375 \n",
       "Q 23.390625 41.5 23.921875 41.5 \n",
       "Q 29.546875 41.5 34.03125 44.421875 \n",
       "Q 38.53125 47.359375 38.53125 53.46875 \n",
       "Q 38.53125 58.296875 35.25 61.46875 \n",
       "Q 31.984375 64.65625 26.8125 64.65625 \n",
       "Q 21.6875 64.65625 18.265625 61.421875 \n",
       "Q 14.84375 58.203125 13.875 51.765625 \n",
       "L 5.078125 53.328125 \n",
       "Q 6.6875 62.15625 12.390625 67.015625 \n",
       "Q 18.109375 71.875 26.609375 71.875 \n",
       "Q 32.46875 71.875 37.390625 69.359375 \n",
       "Q 42.328125 66.84375 44.9375 62.5 \n",
       "Q 47.5625 58.15625 47.5625 53.265625 \n",
       "Q 47.5625 48.640625 45.0625 44.828125 \n",
       "Q 42.578125 41.015625 37.703125 38.765625 \n",
       "Q 44.046875 37.3125 47.5625 32.6875 \n",
       "Q 51.078125 28.078125 51.078125 21.140625 \n",
       "Q 51.078125 11.765625 44.234375 5.25 \n",
       "Q 37.40625 -1.265625 26.953125 -1.265625 \n",
       "Q 17.53125 -1.265625 11.296875 4.34375 \n",
       "Q 5.078125 9.96875 4.203125 18.890625 \n",
       "\" id=\"ArialMT-33\"/>\n",
       "      </defs>\n",
       "      <g style=\"fill:#262626;\" transform=\"translate(127.16015625 332.83046875)scale(0.1 -0.1)\">\n",
       "       <use xlink:href=\"#ArialMT-2212\"/>\n",
       "       <use x=\"58.3984375\" xlink:href=\"#ArialMT-33\"/>\n",
       "      </g>\n",
       "     </g>\n",
       "    </g>\n",
       "    <g id=\"xtick_4\">\n",
       "     <g id=\"line2d_10\">\n",
       "      <path clip-path=\"url(#p089d4bd65f)\" d=\"M 182.460938 318.672656 \n",
       "L 182.460938 11.772656 \n",
       "\" style=\"fill:none;stroke:#ffffff;stroke-linecap:round;\"/>\n",
       "     </g>\n",
       "     <g id=\"line2d_11\">\n",
       "      <g>\n",
       "       <use style=\"fill:#262626;stroke:#262626;\" x=\"182.4609375\" xlink:href=\"#m67af9b86a7\" y=\"318.67265625\"/>\n",
       "      </g>\n",
       "     </g>\n",
       "     <g id=\"line2d_12\">\n",
       "      <g>\n",
       "       <use style=\"fill:#262626;stroke:#262626;\" x=\"182.4609375\" xlink:href=\"#m67af9b86a7\" y=\"11.77265625\"/>\n",
       "      </g>\n",
       "     </g>\n",
       "     <g id=\"text_4\">\n",
       "      <!-- −2 -->\n",
       "      <defs>\n",
       "       <path d=\"M 50.34375 8.453125 \n",
       "L 50.34375 0 \n",
       "L 3.03125 0 \n",
       "Q 2.9375 3.171875 4.046875 6.109375 \n",
       "Q 5.859375 10.9375 9.828125 15.625 \n",
       "Q 13.8125 20.3125 21.34375 26.46875 \n",
       "Q 33.015625 36.03125 37.109375 41.625 \n",
       "Q 41.21875 47.21875 41.21875 52.203125 \n",
       "Q 41.21875 57.421875 37.46875 61 \n",
       "Q 33.734375 64.59375 27.734375 64.59375 \n",
       "Q 21.390625 64.59375 17.578125 60.78125 \n",
       "Q 13.765625 56.984375 13.71875 50.25 \n",
       "L 4.6875 51.171875 \n",
       "Q 5.609375 61.28125 11.65625 66.578125 \n",
       "Q 17.71875 71.875 27.9375 71.875 \n",
       "Q 38.234375 71.875 44.234375 66.15625 \n",
       "Q 50.25 60.453125 50.25 52 \n",
       "Q 50.25 47.703125 48.484375 43.546875 \n",
       "Q 46.734375 39.40625 42.65625 34.8125 \n",
       "Q 38.578125 30.21875 29.109375 22.21875 \n",
       "Q 21.1875 15.578125 18.9375 13.203125 \n",
       "Q 16.703125 10.84375 15.234375 8.453125 \n",
       "z\n",
       "\" id=\"ArialMT-32\"/>\n",
       "      </defs>\n",
       "      <g style=\"fill:#262626;\" transform=\"translate(176.76015625 332.83046875)scale(0.1 -0.1)\">\n",
       "       <use xlink:href=\"#ArialMT-2212\"/>\n",
       "       <use x=\"58.3984375\" xlink:href=\"#ArialMT-32\"/>\n",
       "      </g>\n",
       "     </g>\n",
       "    </g>\n",
       "    <g id=\"xtick_5\">\n",
       "     <g id=\"line2d_13\">\n",
       "      <path clip-path=\"url(#p089d4bd65f)\" d=\"M 232.060937 318.672656 \n",
       "L 232.060937 11.772656 \n",
       "\" style=\"fill:none;stroke:#ffffff;stroke-linecap:round;\"/>\n",
       "     </g>\n",
       "     <g id=\"line2d_14\">\n",
       "      <g>\n",
       "       <use style=\"fill:#262626;stroke:#262626;\" x=\"232.0609375\" xlink:href=\"#m67af9b86a7\" y=\"318.67265625\"/>\n",
       "      </g>\n",
       "     </g>\n",
       "     <g id=\"line2d_15\">\n",
       "      <g>\n",
       "       <use style=\"fill:#262626;stroke:#262626;\" x=\"232.0609375\" xlink:href=\"#m67af9b86a7\" y=\"11.77265625\"/>\n",
       "      </g>\n",
       "     </g>\n",
       "     <g id=\"text_5\">\n",
       "      <!-- −1 -->\n",
       "      <defs>\n",
       "       <path d=\"M 37.25 0 \n",
       "L 28.46875 0 \n",
       "L 28.46875 56 \n",
       "Q 25.296875 52.984375 20.140625 49.953125 \n",
       "Q 14.984375 46.921875 10.890625 45.40625 \n",
       "L 10.890625 53.90625 \n",
       "Q 18.265625 57.375 23.78125 62.296875 \n",
       "Q 29.296875 67.234375 31.59375 71.875 \n",
       "L 37.25 71.875 \n",
       "z\n",
       "\" id=\"ArialMT-31\"/>\n",
       "      </defs>\n",
       "      <g style=\"fill:#262626;\" transform=\"translate(226.36015625 332.83046875)scale(0.1 -0.1)\">\n",
       "       <use xlink:href=\"#ArialMT-2212\"/>\n",
       "       <use x=\"58.3984375\" xlink:href=\"#ArialMT-31\"/>\n",
       "      </g>\n",
       "     </g>\n",
       "    </g>\n",
       "    <g id=\"xtick_6\">\n",
       "     <g id=\"line2d_16\">\n",
       "      <path clip-path=\"url(#p089d4bd65f)\" d=\"M 281.660937 318.672656 \n",
       "L 281.660937 11.772656 \n",
       "\" style=\"fill:none;stroke:#ffffff;stroke-linecap:round;\"/>\n",
       "     </g>\n",
       "     <g id=\"line2d_17\">\n",
       "      <g>\n",
       "       <use style=\"fill:#262626;stroke:#262626;\" x=\"281.6609375\" xlink:href=\"#m67af9b86a7\" y=\"318.67265625\"/>\n",
       "      </g>\n",
       "     </g>\n",
       "     <g id=\"line2d_18\">\n",
       "      <g>\n",
       "       <use style=\"fill:#262626;stroke:#262626;\" x=\"281.6609375\" xlink:href=\"#m67af9b86a7\" y=\"11.77265625\"/>\n",
       "      </g>\n",
       "     </g>\n",
       "     <g id=\"text_6\">\n",
       "      <!-- 0 -->\n",
       "      <defs>\n",
       "       <path d=\"M 4.15625 35.296875 \n",
       "Q 4.15625 48 6.765625 55.734375 \n",
       "Q 9.375 63.484375 14.515625 67.671875 \n",
       "Q 19.671875 71.875 27.484375 71.875 \n",
       "Q 33.25 71.875 37.59375 69.546875 \n",
       "Q 41.9375 67.234375 44.765625 62.859375 \n",
       "Q 47.609375 58.5 49.21875 52.21875 \n",
       "Q 50.828125 45.953125 50.828125 35.296875 \n",
       "Q 50.828125 22.703125 48.234375 14.96875 \n",
       "Q 45.65625 7.234375 40.5 3 \n",
       "Q 35.359375 -1.21875 27.484375 -1.21875 \n",
       "Q 17.140625 -1.21875 11.234375 6.203125 \n",
       "Q 4.15625 15.140625 4.15625 35.296875 \n",
       "M 13.1875 35.296875 \n",
       "Q 13.1875 17.671875 17.3125 11.828125 \n",
       "Q 21.4375 6 27.484375 6 \n",
       "Q 33.546875 6 37.671875 11.859375 \n",
       "Q 41.796875 17.71875 41.796875 35.296875 \n",
       "Q 41.796875 52.984375 37.671875 58.78125 \n",
       "Q 33.546875 64.59375 27.390625 64.59375 \n",
       "Q 21.34375 64.59375 17.71875 59.46875 \n",
       "Q 13.1875 52.9375 13.1875 35.296875 \n",
       "\" id=\"ArialMT-30\"/>\n",
       "      </defs>\n",
       "      <g style=\"fill:#262626;\" transform=\"translate(278.88046875 332.83046875)scale(0.1 -0.1)\">\n",
       "       <use xlink:href=\"#ArialMT-30\"/>\n",
       "      </g>\n",
       "     </g>\n",
       "    </g>\n",
       "    <g id=\"xtick_7\">\n",
       "     <g id=\"line2d_19\">\n",
       "      <path clip-path=\"url(#p089d4bd65f)\" d=\"M 331.260937 318.672656 \n",
       "L 331.260937 11.772656 \n",
       "\" style=\"fill:none;stroke:#ffffff;stroke-linecap:round;\"/>\n",
       "     </g>\n",
       "     <g id=\"line2d_20\">\n",
       "      <g>\n",
       "       <use style=\"fill:#262626;stroke:#262626;\" x=\"331.2609375\" xlink:href=\"#m67af9b86a7\" y=\"318.67265625\"/>\n",
       "      </g>\n",
       "     </g>\n",
       "     <g id=\"line2d_21\">\n",
       "      <g>\n",
       "       <use style=\"fill:#262626;stroke:#262626;\" x=\"331.2609375\" xlink:href=\"#m67af9b86a7\" y=\"11.77265625\"/>\n",
       "      </g>\n",
       "     </g>\n",
       "     <g id=\"text_7\">\n",
       "      <!-- 1 -->\n",
       "      <g style=\"fill:#262626;\" transform=\"translate(328.48046875 332.83046875)scale(0.1 -0.1)\">\n",
       "       <use xlink:href=\"#ArialMT-31\"/>\n",
       "      </g>\n",
       "     </g>\n",
       "    </g>\n",
       "    <g id=\"xtick_8\">\n",
       "     <g id=\"line2d_22\">\n",
       "      <path clip-path=\"url(#p089d4bd65f)\" d=\"M 380.860937 318.672656 \n",
       "L 380.860937 11.772656 \n",
       "\" style=\"fill:none;stroke:#ffffff;stroke-linecap:round;\"/>\n",
       "     </g>\n",
       "     <g id=\"line2d_23\">\n",
       "      <g>\n",
       "       <use style=\"fill:#262626;stroke:#262626;\" x=\"380.8609375\" xlink:href=\"#m67af9b86a7\" y=\"318.67265625\"/>\n",
       "      </g>\n",
       "     </g>\n",
       "     <g id=\"line2d_24\">\n",
       "      <g>\n",
       "       <use style=\"fill:#262626;stroke:#262626;\" x=\"380.8609375\" xlink:href=\"#m67af9b86a7\" y=\"11.77265625\"/>\n",
       "      </g>\n",
       "     </g>\n",
       "     <g id=\"text_8\">\n",
       "      <!-- 2 -->\n",
       "      <g style=\"fill:#262626;\" transform=\"translate(378.08046875 332.83046875)scale(0.1 -0.1)\">\n",
       "       <use xlink:href=\"#ArialMT-32\"/>\n",
       "      </g>\n",
       "     </g>\n",
       "    </g>\n",
       "    <g id=\"xtick_9\">\n",
       "     <g id=\"line2d_25\">\n",
       "      <path clip-path=\"url(#p089d4bd65f)\" d=\"M 430.460938 318.672656 \n",
       "L 430.460938 11.772656 \n",
       "\" style=\"fill:none;stroke:#ffffff;stroke-linecap:round;\"/>\n",
       "     </g>\n",
       "     <g id=\"line2d_26\">\n",
       "      <g>\n",
       "       <use style=\"fill:#262626;stroke:#262626;\" x=\"430.4609375\" xlink:href=\"#m67af9b86a7\" y=\"318.67265625\"/>\n",
       "      </g>\n",
       "     </g>\n",
       "     <g id=\"line2d_27\">\n",
       "      <g>\n",
       "       <use style=\"fill:#262626;stroke:#262626;\" x=\"430.4609375\" xlink:href=\"#m67af9b86a7\" y=\"11.77265625\"/>\n",
       "      </g>\n",
       "     </g>\n",
       "     <g id=\"text_9\">\n",
       "      <!-- 3 -->\n",
       "      <g style=\"fill:#262626;\" transform=\"translate(427.68046875 332.83046875)scale(0.1 -0.1)\">\n",
       "       <use xlink:href=\"#ArialMT-33\"/>\n",
       "      </g>\n",
       "     </g>\n",
       "    </g>\n",
       "    <g id=\"xtick_10\">\n",
       "     <g id=\"line2d_28\">\n",
       "      <path clip-path=\"url(#p089d4bd65f)\" d=\"M 480.060937 318.672656 \n",
       "L 480.060937 11.772656 \n",
       "\" style=\"fill:none;stroke:#ffffff;stroke-linecap:round;\"/>\n",
       "     </g>\n",
       "     <g id=\"line2d_29\">\n",
       "      <g>\n",
       "       <use style=\"fill:#262626;stroke:#262626;\" x=\"480.0609375\" xlink:href=\"#m67af9b86a7\" y=\"318.67265625\"/>\n",
       "      </g>\n",
       "     </g>\n",
       "     <g id=\"line2d_30\">\n",
       "      <g>\n",
       "       <use style=\"fill:#262626;stroke:#262626;\" x=\"480.0609375\" xlink:href=\"#m67af9b86a7\" y=\"11.77265625\"/>\n",
       "      </g>\n",
       "     </g>\n",
       "     <g id=\"text_10\">\n",
       "      <!-- 4 -->\n",
       "      <g style=\"fill:#262626;\" transform=\"translate(477.28046875 332.83046875)scale(0.1 -0.1)\">\n",
       "       <use xlink:href=\"#ArialMT-34\"/>\n",
       "      </g>\n",
       "     </g>\n",
       "    </g>\n",
       "   </g>\n",
       "   <g id=\"matplotlib.axis_2\">\n",
       "    <g id=\"ytick_1\">\n",
       "     <g id=\"line2d_31\">\n",
       "      <path clip-path=\"url(#p089d4bd65f)\" d=\"M 33.660938 318.672656 \n",
       "L 480.060937 318.672656 \n",
       "\" style=\"fill:none;stroke:#ffffff;stroke-linecap:round;\"/>\n",
       "     </g>\n",
       "     <g id=\"line2d_32\">\n",
       "      <g>\n",
       "       <use style=\"fill:#262626;stroke:#262626;\" x=\"33.6609375\" xlink:href=\"#m67af9b86a7\" y=\"318.67265625\"/>\n",
       "      </g>\n",
       "     </g>\n",
       "     <g id=\"line2d_33\">\n",
       "      <g>\n",
       "       <use style=\"fill:#262626;stroke:#262626;\" x=\"480.0609375\" xlink:href=\"#m67af9b86a7\" y=\"318.67265625\"/>\n",
       "      </g>\n",
       "     </g>\n",
       "     <g id=\"text_11\">\n",
       "      <!-- 0.00 -->\n",
       "      <defs>\n",
       "       <path d=\"M 9.078125 0 \n",
       "L 9.078125 10.015625 \n",
       "L 19.09375 10.015625 \n",
       "L 19.09375 0 \n",
       "z\n",
       "\" id=\"ArialMT-2e\"/>\n",
       "      </defs>\n",
       "      <g style=\"fill:#262626;\" transform=\"translate(7.2 321.2578125)scale(0.1 -0.1)\">\n",
       "       <use xlink:href=\"#ArialMT-30\"/>\n",
       "       <use x=\"55.615234375\" xlink:href=\"#ArialMT-2e\"/>\n",
       "       <use x=\"83.3984375\" xlink:href=\"#ArialMT-30\"/>\n",
       "       <use x=\"139.013671875\" xlink:href=\"#ArialMT-30\"/>\n",
       "      </g>\n",
       "     </g>\n",
       "    </g>\n",
       "    <g id=\"ytick_2\">\n",
       "     <g id=\"line2d_34\">\n",
       "      <path clip-path=\"url(#p089d4bd65f)\" d=\"M 33.660938 280.310156 \n",
       "L 480.060937 280.310156 \n",
       "\" style=\"fill:none;stroke:#ffffff;stroke-linecap:round;\"/>\n",
       "     </g>\n",
       "     <g id=\"line2d_35\">\n",
       "      <g>\n",
       "       <use style=\"fill:#262626;stroke:#262626;\" x=\"33.6609375\" xlink:href=\"#m67af9b86a7\" y=\"280.31015625\"/>\n",
       "      </g>\n",
       "     </g>\n",
       "     <g id=\"line2d_36\">\n",
       "      <g>\n",
       "       <use style=\"fill:#262626;stroke:#262626;\" x=\"480.0609375\" xlink:href=\"#m67af9b86a7\" y=\"280.31015625\"/>\n",
       "      </g>\n",
       "     </g>\n",
       "     <g id=\"text_12\">\n",
       "      <!-- 0.05 -->\n",
       "      <g style=\"fill:#262626;\" transform=\"translate(7.2 282.8953125)scale(0.1 -0.1)\">\n",
       "       <use xlink:href=\"#ArialMT-30\"/>\n",
       "       <use x=\"55.615234375\" xlink:href=\"#ArialMT-2e\"/>\n",
       "       <use x=\"83.3984375\" xlink:href=\"#ArialMT-30\"/>\n",
       "       <use x=\"139.013671875\" xlink:href=\"#ArialMT-35\"/>\n",
       "      </g>\n",
       "     </g>\n",
       "    </g>\n",
       "    <g id=\"ytick_3\">\n",
       "     <g id=\"line2d_37\">\n",
       "      <path clip-path=\"url(#p089d4bd65f)\" d=\"M 33.660938 241.947656 \n",
       "L 480.060937 241.947656 \n",
       "\" style=\"fill:none;stroke:#ffffff;stroke-linecap:round;\"/>\n",
       "     </g>\n",
       "     <g id=\"line2d_38\">\n",
       "      <g>\n",
       "       <use style=\"fill:#262626;stroke:#262626;\" x=\"33.6609375\" xlink:href=\"#m67af9b86a7\" y=\"241.94765625\"/>\n",
       "      </g>\n",
       "     </g>\n",
       "     <g id=\"line2d_39\">\n",
       "      <g>\n",
       "       <use style=\"fill:#262626;stroke:#262626;\" x=\"480.0609375\" xlink:href=\"#m67af9b86a7\" y=\"241.94765625\"/>\n",
       "      </g>\n",
       "     </g>\n",
       "     <g id=\"text_13\">\n",
       "      <!-- 0.10 -->\n",
       "      <g style=\"fill:#262626;\" transform=\"translate(7.2 244.5328125)scale(0.1 -0.1)\">\n",
       "       <use xlink:href=\"#ArialMT-30\"/>\n",
       "       <use x=\"55.615234375\" xlink:href=\"#ArialMT-2e\"/>\n",
       "       <use x=\"83.3984375\" xlink:href=\"#ArialMT-31\"/>\n",
       "       <use x=\"139.013671875\" xlink:href=\"#ArialMT-30\"/>\n",
       "      </g>\n",
       "     </g>\n",
       "    </g>\n",
       "    <g id=\"ytick_4\">\n",
       "     <g id=\"line2d_40\">\n",
       "      <path clip-path=\"url(#p089d4bd65f)\" d=\"M 33.660938 203.585156 \n",
       "L 480.060937 203.585156 \n",
       "\" style=\"fill:none;stroke:#ffffff;stroke-linecap:round;\"/>\n",
       "     </g>\n",
       "     <g id=\"line2d_41\">\n",
       "      <g>\n",
       "       <use style=\"fill:#262626;stroke:#262626;\" x=\"33.6609375\" xlink:href=\"#m67af9b86a7\" y=\"203.58515625\"/>\n",
       "      </g>\n",
       "     </g>\n",
       "     <g id=\"line2d_42\">\n",
       "      <g>\n",
       "       <use style=\"fill:#262626;stroke:#262626;\" x=\"480.0609375\" xlink:href=\"#m67af9b86a7\" y=\"203.58515625\"/>\n",
       "      </g>\n",
       "     </g>\n",
       "     <g id=\"text_14\">\n",
       "      <!-- 0.15 -->\n",
       "      <g style=\"fill:#262626;\" transform=\"translate(7.2 206.1703125)scale(0.1 -0.1)\">\n",
       "       <use xlink:href=\"#ArialMT-30\"/>\n",
       "       <use x=\"55.615234375\" xlink:href=\"#ArialMT-2e\"/>\n",
       "       <use x=\"83.3984375\" xlink:href=\"#ArialMT-31\"/>\n",
       "       <use x=\"139.013671875\" xlink:href=\"#ArialMT-35\"/>\n",
       "      </g>\n",
       "     </g>\n",
       "    </g>\n",
       "    <g id=\"ytick_5\">\n",
       "     <g id=\"line2d_43\">\n",
       "      <path clip-path=\"url(#p089d4bd65f)\" d=\"M 33.660938 165.222656 \n",
       "L 480.060937 165.222656 \n",
       "\" style=\"fill:none;stroke:#ffffff;stroke-linecap:round;\"/>\n",
       "     </g>\n",
       "     <g id=\"line2d_44\">\n",
       "      <g>\n",
       "       <use style=\"fill:#262626;stroke:#262626;\" x=\"33.6609375\" xlink:href=\"#m67af9b86a7\" y=\"165.22265625\"/>\n",
       "      </g>\n",
       "     </g>\n",
       "     <g id=\"line2d_45\">\n",
       "      <g>\n",
       "       <use style=\"fill:#262626;stroke:#262626;\" x=\"480.0609375\" xlink:href=\"#m67af9b86a7\" y=\"165.22265625\"/>\n",
       "      </g>\n",
       "     </g>\n",
       "     <g id=\"text_15\">\n",
       "      <!-- 0.20 -->\n",
       "      <g style=\"fill:#262626;\" transform=\"translate(7.2 167.8078125)scale(0.1 -0.1)\">\n",
       "       <use xlink:href=\"#ArialMT-30\"/>\n",
       "       <use x=\"55.615234375\" xlink:href=\"#ArialMT-2e\"/>\n",
       "       <use x=\"83.3984375\" xlink:href=\"#ArialMT-32\"/>\n",
       "       <use x=\"139.013671875\" xlink:href=\"#ArialMT-30\"/>\n",
       "      </g>\n",
       "     </g>\n",
       "    </g>\n",
       "    <g id=\"ytick_6\">\n",
       "     <g id=\"line2d_46\">\n",
       "      <path clip-path=\"url(#p089d4bd65f)\" d=\"M 33.660938 126.860156 \n",
       "L 480.060937 126.860156 \n",
       "\" style=\"fill:none;stroke:#ffffff;stroke-linecap:round;\"/>\n",
       "     </g>\n",
       "     <g id=\"line2d_47\">\n",
       "      <g>\n",
       "       <use style=\"fill:#262626;stroke:#262626;\" x=\"33.6609375\" xlink:href=\"#m67af9b86a7\" y=\"126.86015625\"/>\n",
       "      </g>\n",
       "     </g>\n",
       "     <g id=\"line2d_48\">\n",
       "      <g>\n",
       "       <use style=\"fill:#262626;stroke:#262626;\" x=\"480.0609375\" xlink:href=\"#m67af9b86a7\" y=\"126.86015625\"/>\n",
       "      </g>\n",
       "     </g>\n",
       "     <g id=\"text_16\">\n",
       "      <!-- 0.25 -->\n",
       "      <g style=\"fill:#262626;\" transform=\"translate(7.2 129.4453125)scale(0.1 -0.1)\">\n",
       "       <use xlink:href=\"#ArialMT-30\"/>\n",
       "       <use x=\"55.615234375\" xlink:href=\"#ArialMT-2e\"/>\n",
       "       <use x=\"83.3984375\" xlink:href=\"#ArialMT-32\"/>\n",
       "       <use x=\"139.013671875\" xlink:href=\"#ArialMT-35\"/>\n",
       "      </g>\n",
       "     </g>\n",
       "    </g>\n",
       "    <g id=\"ytick_7\">\n",
       "     <g id=\"line2d_49\">\n",
       "      <path clip-path=\"url(#p089d4bd65f)\" d=\"M 33.660938 88.497656 \n",
       "L 480.060937 88.497656 \n",
       "\" style=\"fill:none;stroke:#ffffff;stroke-linecap:round;\"/>\n",
       "     </g>\n",
       "     <g id=\"line2d_50\">\n",
       "      <g>\n",
       "       <use style=\"fill:#262626;stroke:#262626;\" x=\"33.6609375\" xlink:href=\"#m67af9b86a7\" y=\"88.49765625\"/>\n",
       "      </g>\n",
       "     </g>\n",
       "     <g id=\"line2d_51\">\n",
       "      <g>\n",
       "       <use style=\"fill:#262626;stroke:#262626;\" x=\"480.0609375\" xlink:href=\"#m67af9b86a7\" y=\"88.49765625\"/>\n",
       "      </g>\n",
       "     </g>\n",
       "     <g id=\"text_17\">\n",
       "      <!-- 0.30 -->\n",
       "      <g style=\"fill:#262626;\" transform=\"translate(7.2 91.0828125)scale(0.1 -0.1)\">\n",
       "       <use xlink:href=\"#ArialMT-30\"/>\n",
       "       <use x=\"55.615234375\" xlink:href=\"#ArialMT-2e\"/>\n",
       "       <use x=\"83.3984375\" xlink:href=\"#ArialMT-33\"/>\n",
       "       <use x=\"139.013671875\" xlink:href=\"#ArialMT-30\"/>\n",
       "      </g>\n",
       "     </g>\n",
       "    </g>\n",
       "    <g id=\"ytick_8\">\n",
       "     <g id=\"line2d_52\">\n",
       "      <path clip-path=\"url(#p089d4bd65f)\" d=\"M 33.660938 50.135156 \n",
       "L 480.060937 50.135156 \n",
       "\" style=\"fill:none;stroke:#ffffff;stroke-linecap:round;\"/>\n",
       "     </g>\n",
       "     <g id=\"line2d_53\">\n",
       "      <g>\n",
       "       <use style=\"fill:#262626;stroke:#262626;\" x=\"33.6609375\" xlink:href=\"#m67af9b86a7\" y=\"50.13515625\"/>\n",
       "      </g>\n",
       "     </g>\n",
       "     <g id=\"line2d_54\">\n",
       "      <g>\n",
       "       <use style=\"fill:#262626;stroke:#262626;\" x=\"480.0609375\" xlink:href=\"#m67af9b86a7\" y=\"50.13515625\"/>\n",
       "      </g>\n",
       "     </g>\n",
       "     <g id=\"text_18\">\n",
       "      <!-- 0.35 -->\n",
       "      <g style=\"fill:#262626;\" transform=\"translate(7.2 52.7203125)scale(0.1 -0.1)\">\n",
       "       <use xlink:href=\"#ArialMT-30\"/>\n",
       "       <use x=\"55.615234375\" xlink:href=\"#ArialMT-2e\"/>\n",
       "       <use x=\"83.3984375\" xlink:href=\"#ArialMT-33\"/>\n",
       "       <use x=\"139.013671875\" xlink:href=\"#ArialMT-35\"/>\n",
       "      </g>\n",
       "     </g>\n",
       "    </g>\n",
       "    <g id=\"ytick_9\">\n",
       "     <g id=\"line2d_55\">\n",
       "      <path clip-path=\"url(#p089d4bd65f)\" d=\"M 33.660938 11.772656 \n",
       "L 480.060937 11.772656 \n",
       "\" style=\"fill:none;stroke:#ffffff;stroke-linecap:round;\"/>\n",
       "     </g>\n",
       "     <g id=\"line2d_56\">\n",
       "      <g>\n",
       "       <use style=\"fill:#262626;stroke:#262626;\" x=\"33.6609375\" xlink:href=\"#m67af9b86a7\" y=\"11.77265625\"/>\n",
       "      </g>\n",
       "     </g>\n",
       "     <g id=\"line2d_57\">\n",
       "      <g>\n",
       "       <use style=\"fill:#262626;stroke:#262626;\" x=\"480.0609375\" xlink:href=\"#m67af9b86a7\" y=\"11.77265625\"/>\n",
       "      </g>\n",
       "     </g>\n",
       "     <g id=\"text_19\">\n",
       "      <!-- 0.40 -->\n",
       "      <g style=\"fill:#262626;\" transform=\"translate(7.2 14.3578125)scale(0.1 -0.1)\">\n",
       "       <use xlink:href=\"#ArialMT-30\"/>\n",
       "       <use x=\"55.615234375\" xlink:href=\"#ArialMT-2e\"/>\n",
       "       <use x=\"83.3984375\" xlink:href=\"#ArialMT-34\"/>\n",
       "       <use x=\"139.013671875\" xlink:href=\"#ArialMT-30\"/>\n",
       "      </g>\n",
       "     </g>\n",
       "    </g>\n",
       "   </g>\n",
       "   <g id=\"patch_3\">\n",
       "    <path clip-path=\"url(#p089d4bd65f)\" d=\"M 142.369813 318.672656 \n",
       "L 171.606362 318.672656 \n",
       "L 171.606362 305.785084 \n",
       "L 142.369813 305.785084 \n",
       "z\n",
       "\" style=\"fill:#4c72b0;opacity:0.4;stroke:#1a1a1a;stroke-linejoin:miter;stroke-width:0.3;\"/>\n",
       "   </g>\n",
       "   <g id=\"patch_4\">\n",
       "    <path clip-path=\"url(#p089d4bd65f)\" d=\"M 171.606362 318.672656 \n",
       "L 200.84291 318.672656 \n",
       "L 200.84291 241.347225 \n",
       "L 171.606362 241.347225 \n",
       "z\n",
       "\" style=\"fill:#4c72b0;opacity:0.4;stroke:#1a1a1a;stroke-linejoin:miter;stroke-width:0.3;\"/>\n",
       "   </g>\n",
       "   <g id=\"patch_5\">\n",
       "    <path clip-path=\"url(#p089d4bd65f)\" d=\"M 200.84291 318.672656 \n",
       "L 230.079459 318.672656 \n",
       "L 230.079459 202.68451 \n",
       "L 200.84291 202.68451 \n",
       "z\n",
       "\" style=\"fill:#4c72b0;opacity:0.4;stroke:#1a1a1a;stroke-linejoin:miter;stroke-width:0.3;\"/>\n",
       "   </g>\n",
       "   <g id=\"patch_6\">\n",
       "    <path clip-path=\"url(#p089d4bd65f)\" d=\"M 230.079459 318.672656 \n",
       "L 259.316007 318.672656 \n",
       "L 259.316007 138.246651 \n",
       "L 230.079459 138.246651 \n",
       "z\n",
       "\" style=\"fill:#4c72b0;opacity:0.4;stroke:#1a1a1a;stroke-linejoin:miter;stroke-width:0.3;\"/>\n",
       "   </g>\n",
       "   <g id=\"patch_7\">\n",
       "    <path clip-path=\"url(#p089d4bd65f)\" d=\"M 259.316007 318.672656 \n",
       "L 288.552556 318.672656 \n",
       "L 288.552556 48.033648 \n",
       "L 259.316007 48.033648 \n",
       "z\n",
       "\" style=\"fill:#4c72b0;opacity:0.4;stroke:#1a1a1a;stroke-linejoin:miter;stroke-width:0.3;\"/>\n",
       "   </g>\n",
       "   <g id=\"patch_8\">\n",
       "    <path clip-path=\"url(#p089d4bd65f)\" d=\"M 288.552556 318.672656 \n",
       "L 317.789104 318.672656 \n",
       "L 317.789104 35.146076 \n",
       "L 288.552556 35.146076 \n",
       "z\n",
       "\" style=\"fill:#4c72b0;opacity:0.4;stroke:#1a1a1a;stroke-linejoin:miter;stroke-width:0.3;\"/>\n",
       "   </g>\n",
       "   <g id=\"patch_9\">\n",
       "    <path clip-path=\"url(#p089d4bd65f)\" d=\"M 317.789104 318.672656 \n",
       "L 347.025653 318.672656 \n",
       "L 347.025653 164.021794 \n",
       "L 317.789104 164.021794 \n",
       "z\n",
       "\" style=\"fill:#4c72b0;opacity:0.4;stroke:#1a1a1a;stroke-linejoin:miter;stroke-width:0.3;\"/>\n",
       "   </g>\n",
       "   <g id=\"patch_10\">\n",
       "    <path clip-path=\"url(#p089d4bd65f)\" d=\"M 347.025653 318.672656 \n",
       "L 376.262201 318.672656 \n",
       "L 376.262201 215.572082 \n",
       "L 347.025653 215.572082 \n",
       "z\n",
       "\" style=\"fill:#4c72b0;opacity:0.4;stroke:#1a1a1a;stroke-linejoin:miter;stroke-width:0.3;\"/>\n",
       "   </g>\n",
       "   <g id=\"patch_11\">\n",
       "    <path clip-path=\"url(#p089d4bd65f)\" d=\"M 376.262201 318.672656 \n",
       "L 405.49875 318.672656 \n",
       "L 405.49875 215.572082 \n",
       "L 376.262201 215.572082 \n",
       "z\n",
       "\" style=\"fill:#4c72b0;opacity:0.4;stroke:#1a1a1a;stroke-linejoin:miter;stroke-width:0.3;\"/>\n",
       "   </g>\n",
       "   <g id=\"line2d_58\">\n",
       "    <path clip-path=\"url(#p089d4bd65f)\" d=\"M 75.771086 318.456831 \n",
       "L 89.712215 318.133068 \n",
       "L 99.670165 317.673575 \n",
       "L 107.636525 317.07457 \n",
       "L 113.611294 316.430076 \n",
       "L 119.586064 315.561798 \n",
       "L 125.560834 314.406893 \n",
       "L 129.544013 313.441216 \n",
       "L 133.527193 312.289778 \n",
       "L 137.510373 310.924779 \n",
       "L 141.493553 309.316022 \n",
       "L 145.476733 307.431075 \n",
       "L 149.459912 305.235543 \n",
       "L 153.443092 302.693445 \n",
       "L 157.426272 299.767708 \n",
       "L 161.409452 296.420788 \n",
       "L 165.392632 292.615426 \n",
       "L 169.375812 288.315517 \n",
       "L 173.358991 283.487114 \n",
       "L 177.342171 278.099532 \n",
       "L 181.325351 272.126539 \n",
       "L 185.308531 265.547615 \n",
       "L 189.291711 258.349243 \n",
       "L 193.27489 250.52619 \n",
       "L 197.25807 242.082742 \n",
       "L 201.24125 233.033845 \n",
       "L 205.22443 223.406095 \n",
       "L 209.20761 213.238543 \n",
       "L 213.190789 202.583242 \n",
       "L 219.165559 185.832282 \n",
       "L 227.131919 162.509752 \n",
       "L 239.081458 127.14539 \n",
       "L 245.056228 110.207512 \n",
       "L 249.039408 99.502112 \n",
       "L 253.022587 89.426675 \n",
       "L 257.005767 80.115702 \n",
       "L 260.988947 71.697516 \n",
       "L 262.980537 67.86091 \n",
       "L 264.972127 64.291343 \n",
       "L 266.963717 61.001835 \n",
       "L 268.955307 58.004501 \n",
       "L 270.946897 55.31047 \n",
       "L 272.938487 52.929824 \n",
       "L 274.930076 50.871528 \n",
       "L 276.921666 49.143379 \n",
       "L 278.913256 47.751954 \n",
       "L 280.904846 46.702568 \n",
       "L 282.896436 45.999245 \n",
       "L 284.888026 45.644684 \n",
       "L 286.879616 45.640249 \n",
       "L 288.871206 45.985958 \n",
       "L 290.862796 46.680481 \n",
       "L 292.854386 47.72115 \n",
       "L 294.845975 49.103977 \n",
       "L 296.837565 50.823678 \n",
       "L 298.829155 52.873707 \n",
       "L 300.820745 55.246299 \n",
       "L 302.812335 57.932516 \n",
       "L 304.803925 60.922306 \n",
       "L 306.795515 64.204562 \n",
       "L 308.787105 67.767197 \n",
       "L 310.778695 71.597211 \n",
       "L 314.761874 80.00331 \n",
       "L 318.745054 89.303769 \n",
       "L 322.728234 99.37036 \n",
       "L 326.711414 110.068643 \n",
       "L 332.686184 126.999127 \n",
       "L 340.652543 150.503656 \n",
       "L 350.610493 179.937513 \n",
       "L 356.585262 196.952295 \n",
       "L 362.560032 213.1066 \n",
       "L 366.543212 223.280679 \n",
       "L 370.526392 232.915532 \n",
       "L 374.509572 241.971948 \n",
       "L 378.492751 250.423176 \n",
       "L 382.475931 258.25413 \n",
       "L 386.459111 265.460394 \n",
       "L 390.442291 272.04709 \n",
       "L 394.425471 278.027638 \n",
       "L 398.40865 283.422477 \n",
       "L 402.39183 288.257774 \n",
       "L 406.37501 292.564165 \n",
       "L 410.35819 296.375565 \n",
       "L 414.34137 299.728056 \n",
       "L 418.324549 302.65889 \n",
       "L 422.307729 305.20561 \n",
       "L 426.290909 307.405301 \n",
       "L 430.274089 309.29396 \n",
       "L 434.257269 310.906006 \n",
       "L 438.240449 312.273896 \n",
       "L 442.223628 313.427859 \n",
       "L 446.206808 314.395723 \n",
       "L 452.181578 315.553348 \n",
       "L 458.156348 316.423765 \n",
       "L 464.131117 317.069917 \n",
       "L 472.097477 317.670536 \n",
       "L 472.097477 317.670536 \n",
       "\" style=\"fill:none;stroke:#282828;stroke-linecap:round;stroke-width:1.75;\"/>\n",
       "   </g>\n",
       "   <g id=\"patch_12\">\n",
       "    <path d=\"M 33.660938 11.772656 \n",
       "L 480.060937 11.772656 \n",
       "\" style=\"fill:none;\"/>\n",
       "   </g>\n",
       "   <g id=\"patch_13\">\n",
       "    <path d=\"M 480.060937 318.672656 \n",
       "L 480.060937 11.772656 \n",
       "\" style=\"fill:none;\"/>\n",
       "   </g>\n",
       "   <g id=\"patch_14\">\n",
       "    <path d=\"M 33.660938 318.672656 \n",
       "L 480.060937 318.672656 \n",
       "\" style=\"fill:none;\"/>\n",
       "   </g>\n",
       "   <g id=\"patch_15\">\n",
       "    <path d=\"M 33.660938 318.672656 \n",
       "L 33.660938 11.772656 \n",
       "\" style=\"fill:none;\"/>\n",
       "   </g>\n",
       "  </g>\n",
       " </g>\n",
       " <defs>\n",
       "  <clipPath id=\"p089d4bd65f\">\n",
       "   <rect height=\"306.9\" width=\"446.4\" x=\"33.6609375\" y=\"11.77265625\"/>\n",
       "  </clipPath>\n",
       " </defs>\n",
       "</svg>\n"
      ],
      "text/plain": [
       "<matplotlib.figure.Figure at 0x7f94584659d0>"
      ]
     },
     "metadata": {},
     "output_type": "display_data"
    },
    {
     "data": {
      "text/plain": [
       "1.1208992669974049"
      ]
     },
     "execution_count": 147,
     "metadata": {},
     "output_type": "execute_result"
    }
   ],
   "source": [
    "# 카이 제곱 분산 검정\n",
    "N = 101\n",
    "mu_0 = 0\n",
    "sigma_0 = 1.1\n",
    "np.random.seed(0)\n",
    "x = sp.stats.norm(mu_0, sigma_0).rvs(N)\n",
    "sns.distplot(x, kde=False, fit=sp.stats.norm)\n",
    "plt.show()\n",
    "x.std()"
   ]
  },
  {
   "cell_type": "code",
   "execution_count": 145,
   "metadata": {
    "collapsed": false
   },
   "outputs": [],
   "source": [
    "def chi2var_test(x, sigma2=1):\n",
    "    v = x.var(ddof=1)\n",
    "    t = (len(x) - 1)*v/sigma2\n",
    "    return t, sp.stats.chi2(df=len(x)-1).sf(np.abs(t))"
   ]
  },
  {
   "cell_type": "code",
   "execution_count": 148,
   "metadata": {
    "collapsed": false
   },
   "outputs": [
    {
     "data": {
      "text/plain": [
       "(126.89793184228731, 0.035912690311647011)"
      ]
     },
     "execution_count": 148,
     "metadata": {},
     "output_type": "execute_result"
    }
   ],
   "source": [
    "chi2var_test(x)"
   ]
  },
  {
   "cell_type": "code",
   "execution_count": null,
   "metadata": {
    "collapsed": true
   },
   "outputs": [],
   "source": []
  }
 ],
 "metadata": {
  "kernelspec": {
   "display_name": "Python 2",
   "language": "python",
   "name": "python2"
  },
  "language_info": {
   "codemirror_mode": {
    "name": "ipython",
    "version": 2
   },
   "file_extension": ".py",
   "mimetype": "text/x-python",
   "name": "python",
   "nbconvert_exporter": "python",
   "pygments_lexer": "ipython2",
   "version": "2.7.11"
  }
 },
 "nbformat": 4,
 "nbformat_minor": 0
}
