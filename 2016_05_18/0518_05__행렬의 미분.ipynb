{
 "cells": [
  {
   "cell_type": "markdown",
   "metadata": {},
   "source": [
    "# 행렬의 미분\n",
    "\n",
    "dy / d[x] ; x가 벡터다!  혹은, d[y] / dx : y가 벡터다! 혹은 둘다 벡터다!"
   ]
  },
  {
   "cell_type": "markdown",
   "metadata": {},
   "source": [
    "함수의 독립 변수나 종속 변수가 벡터나 행렬인 경우에도 미분을 정의할 수 있다. 이러한 경우에는 미분이 아닌 편미분(partial derivative)이지만 편의상 미분이라고 서술하도록 한다. \n",
    "\n",
    "또한 행렬 미분에는 분자 중심 표현법(Numerator-layout notation)과 분모 중심 표현법(Denominator-layout notation) 두 가지가 있는데 데이터 분석에는 주로 분모 중심 표현법이 사용되므로 여기에서도 분모 중심 표현법으로 서술한다."
   ]
  },
  {
   "cell_type": "markdown",
   "metadata": {},
   "source": [
    "## 스칼라를 벡터로 미분"
   ]
  },
  {
   "cell_type": "markdown",
   "metadata": {},
   "source": [
    "데이터 분석에서는 함수의 종속 변수 $y$ 가 스칼라이고 독립 변수 $x$ 가 벡터(다차원)인 경우가 일반적이다.\n",
    "\n",
    "따라서 편미분 값도 $\\frac{\\partial y}{\\partial x_1}, \\frac{\\partial y}{\\partial x_2}, \\cdots$ 등으로 여러 개가 존재한다. \n",
    "\n",
    "이렇게 스칼라를 벡터로 미분하는 경우에는 결과를 (열) 벡터로 표시한다. 이렇게 만들어진 벡터를 **그레디언트 벡터(gradient vector)**라고 하고 $\\nabla y$ 로 표기하기도 한다.\n",
    "\n",
    "\n",
    "$$\n",
    "\\nabla y = \n",
    "\\frac{\\partial y}{\\partial \\mathbf{x}} =\n",
    "\\begin{bmatrix}\n",
    "\\frac{\\partial y}{\\partial x_1}\\\\\n",
    "\\frac{\\partial y}{\\partial x_2}\\\\\n",
    "\\vdots\\\\\n",
    "\\frac{\\partial y}{\\partial x_n}\\\\\n",
    "\\end{bmatrix}\n",
    "$$\n",
    "\n"
   ]
  },
  {
   "cell_type": "markdown",
   "metadata": {},
   "source": [
    "## 벡터를 스칼라로 미분"
   ]
  },
  {
   "cell_type": "markdown",
   "metadata": {},
   "source": [
    "만약 함수의 종속 변수 $y$ 가 벡터(다차원 데이터)이고 독립 변수 $x$ 가 스칼라인 경우는 함수가 여러 개라고 보는 것과 마찬가지이다.\n",
    "\n",
    "$$ y_1 = f_1(x) $$\n",
    "\n",
    "$$ y_2 = f_2(x) $$\n",
    "\n",
    "$$ \\vdots $$\n",
    "\n",
    "$$ y_m = f_m(x) $$\n",
    "\n",
    "$$ \\downarrow $$\n",
    "\n",
    "$$\n",
    "\\mathbf{y} =\n",
    "\\begin{bmatrix}\n",
    "y_1 \\\\\n",
    "y_2 \\\\\n",
    "\\vdots\\\\\n",
    "y_m \\\\\n",
    "\\end{bmatrix}\n",
    "= \\mathbf{f}(x)\n",
    "$$\n"
   ]
  },
  {
   "cell_type": "markdown",
   "metadata": {},
   "source": [
    "따라서 미분 값도 $\\frac{\\partial y_1}{\\partial x}, \\frac{\\partial y_2}{\\partial x}, \\cdots$ 등으로 여러 개가 존재한다. \n",
    "\n",
    "벡터를 스칼라로 미분하는 경우에는 결과를 행 벡터로 표시한다.\n",
    "\n",
    "\n",
    "$$\n",
    "\\frac{\\partial \\mathbf{y}}{\\partial x} = \\left[\n",
    "\\frac{\\partial y_1}{\\partial x}\n",
    "\\frac{\\partial y_2}{\\partial x}\n",
    "\\cdots\n",
    "\\frac{\\partial y_m}{\\partial x}\n",
    "\\right].\n",
    "$$"
   ]
  },
  {
   "cell_type": "markdown",
   "metadata": {},
   "source": [
    "## 벡터를 벡터로 미분"
   ]
  },
  {
   "cell_type": "markdown",
   "metadata": {},
   "source": [
    "함수의 종속 변수와 독립 변수가 모두 벡터(다차원) 데이터인 경우에는 독립 변수 각각과 종속 변수 각각의 조합에 대해 모두 미분이 존재한다. 따라서 도함수는 행렬 형태가 된다. 이렇게 만들어진 도함수의 행렬을 **자코비안 행렬(Jacobian matrix)** 이라고 한다.\n",
    "\n",
    "\n",
    "\n",
    "\n",
    "$$\n",
    "\\mathbf J = \\frac{d\\mathbf y}{d\\mathbf x} = \\begin{bmatrix}\n",
    "    \\dfrac{\\partial \\mathbf{y}}{\\partial x_1} & \\cdots & \\dfrac{\\partial \\mathbf{y}}{\\partial x_n} \\end{bmatrix}\n",
    "= \\begin{bmatrix}\n",
    "    \\dfrac{\\partial y_1}{\\partial x_1} & \\cdots & \\dfrac{\\partial y_1}{\\partial x_n}\\\\\n",
    "    \\vdots & \\ddots & \\vdots\\\\\n",
    "    \\dfrac{\\partial y_m}{\\partial x_1} & \\cdots & \\dfrac{\\partial y_m}{\\partial x_n} \\end{bmatrix}\n",
    "$$\n"
   ]
  },
  {
   "cell_type": "markdown",
   "metadata": {},
   "source": [
    "## 벡터 미분 규칙"
   ]
  },
  {
   "cell_type": "markdown",
   "metadata": {},
   "source": [
    "\n",
    "$$\\frac{\\partial \\mathbf{w}^\\top\\mathbf{x}}{\\partial \\mathbf{x}} = \\frac{\\partial \\mathbf{x}^\\top\\mathbf{w}}{\\partial \\mathbf{x}} = \\mathbf{w}$$ "
   ]
  },
  {
   "cell_type": "markdown",
   "metadata": {},
   "source": [
    "(증명)\n",
    "\n",
    "$$ \n",
    "\\dfrac{\\partial (\\mathbf{w}^T \\mathbf{x})}{\\partial \\mathbf{x}}=\n",
    "\\begin{bmatrix}\n",
    "\\dfrac{\\partial (\\mathbf{w}^T \\mathbf{x})}{\\partial x_1} \\\\\n",
    "\\dfrac{\\partial (\\mathbf{w}^T \\mathbf{x})}{\\partial x_2} \\\\\n",
    "\\vdots \\\\\n",
    "\\dfrac{\\partial (\\mathbf{w}^T \\mathbf{x})}{\\partial x_N} \\\\\n",
    "\\end{bmatrix} =\n",
    "\\begin{bmatrix}\n",
    "\\dfrac{\\partial (w_1 x_1 + \\cancel{w_2 x_2} + \\cdots + \\cancel{w_N x_N})}{\\partial x_1} \\\\\n",
    "\\dfrac{\\partial (\\cancel{w_1 x_1} + w_2 x_2 + \\cdots + \\cancel{w_N x_N})}{\\partial x_2} \\\\\n",
    "\\vdots \\\\\n",
    "\\dfrac{\\partial (\\cancel{w_1 x_1} + \\cancel{w_2 x_2} + \\cdots + w_N x_N)}{\\partial x_N} \\\\\n",
    "\\end{bmatrix} =\n",
    "\\begin{bmatrix}\n",
    "w_1 \\\\\n",
    "w_2 \\\\\n",
    "\\vdots \\\\\n",
    "w_N \\\\\n",
    "\\end{bmatrix}\n",
    "= \\mathbf{w} \n",
    "$$"
   ]
  },
  {
   "cell_type": "markdown",
   "metadata": {},
   "source": [
    "\n",
    "\n",
    "$$\\frac{\\partial \\mathbf{x}^\\top\\mathbf{A}\\mathbf{x}}{\\partial \\mathbf{x}} = (\\mathbf{A} + \\mathbf{A}^\\top)\\mathbf{x}$$"
   ]
  },
  {
   "cell_type": "markdown",
   "metadata": {},
   "source": [
    "(증명)  quadratic form 참고, wiki- matrix calculus\n",
    "\n",
    "\n",
    "$$ \n",
    "\\begin{eqnarray}\n",
    "\\dfrac{\\partial (\\mathbf{x}^\\top\\mathbf{A}\\mathbf{x})}{\\partial \\mathbf{x}}\n",
    "&=&\n",
    "\\begin{bmatrix}\n",
    "\\dfrac{\\partial (\\mathbf{x}^\\top\\mathbf{A}\\mathbf{x})}{\\partial x_1} \\\\\n",
    "\\dfrac{\\partial (\\mathbf{x}^\\top\\mathbf{A}\\mathbf{x})}{\\partial x_2} \\\\\n",
    "\\vdots \\\\\n",
    "\\dfrac{\\partial (\\mathbf{x}^\\top\\mathbf{A}\\mathbf{x})}{\\partial x_N} \\\\\n",
    "\\end{bmatrix} \n",
    "=\n",
    "\\begin{bmatrix}\n",
    "\\dfrac{\\partial (\\sum_{i=1}^{N} \\sum_{j=1}^{N} a_{ij} x_i x_j)}{\\partial x_1} \\\\\n",
    "\\dfrac{\\partial (\\sum_{i=1}^{N} \\sum_{j=1}^{N} a_{ij} x_i x_j)}{\\partial x_2} \\\\\n",
    "\\vdots \\\\\n",
    "\\dfrac{\\partial (\\sum_{i=1}^{N} \\sum_{j=1}^{N} a_{ij} x_i x_j)}{\\partial x_N} \\\\\n",
    "\\end{bmatrix} \n",
    "=\n",
    "\\begin{bmatrix}\n",
    "\\dfrac{\\partial \n",
    "\\left(\n",
    "\\begin{matrix}\n",
    "a_{11}x_1x_1 + a_{12}x_1x_2 + \\cdots + a_{1N}x_1x_N + \\\\\n",
    "a_{21}x_2x_1 + \\cancel{a_{22}x_2x_2} + \\cdots + \\cancel{a_{2N}x_2x_N} + \\\\\n",
    "\\cdots  \\\\\n",
    "a_{N1}x_Nx_1 + \\cancel{a_{N2}x_Nx_2} + \\cdots + \\cancel{a_{NN}x_Nx_N} \n",
    "\\end{matrix}\n",
    "\\right)}{\\partial x_1} \\\\\n",
    "\\dfrac{\\partial \n",
    "\\left(\n",
    "\\begin{matrix}\n",
    "\\cancel{a_{11}x_1x_1} + a_{12}x_1x_2 + \\cdots + \\cancel{a_{1N}x_1x_N} + \\\\\n",
    "a_{21}x_2x_1 + a_{22}x_2x_2 + \\cdots + a_{2N}x_2x_N + \\\\\n",
    "\\cdots  \\\\\n",
    "\\cancel{a_{N1}x_Nx_1} + a_{N2}x_Nx_2 + \\cdots + \\cancel{a_{NN}x_Nx_N}\n",
    "\\end{matrix}\n",
    "\\right)}{\\partial x_2} \\\\\n",
    "\\vdots \\\\\n",
    "\\end{bmatrix} \n",
    "\\\\\n",
    "&=&\n",
    "\\begin{bmatrix}\n",
    "\\sum_{i=1}^{N} a_{1i} x_i + \\sum_{i=1}^{N} a_{i1} x_i\\\\\n",
    "\\sum_{i=1}^{N} a_{2i} x_i + \\sum_{i=1}^{N} a_{i2} x_i\\\\\n",
    "\\vdots \\\\\n",
    "\\sum_{i=1}^{N} a_{Ni} x_i + \\sum_{i=1}^{N} a_{iN} x_i\\\\\n",
    "\\end{bmatrix}\n",
    "=\n",
    "\\begin{bmatrix}\n",
    "\\sum_{i=1}^{N} a_{1i} x_i\\\\\n",
    "\\sum_{i=1}^{N} a_{2i} x_i\\\\\n",
    "\\vdots \\\\\n",
    "\\sum_{i=1}^{N} a_{Ni} x_i\\\\\n",
    "\\end{bmatrix}\n",
    "+\n",
    "\\begin{bmatrix}\n",
    "\\sum_{i=1}^{N} a_{i1} x_i \\\\\n",
    "\\sum_{i=1}^{N} a_{i2} x_i \\\\\n",
    "\\vdots \\\\\n",
    "\\sum_{i=1}^{N} a_{iN} x_i \\\\\n",
    "\\end{bmatrix}\n",
    "=\n",
    "\\mathbf{A} \\mathbf{x}  + \\mathbf{A}^T \\mathbf{x} \n",
    "=\n",
    "(\\mathbf{A} + \\mathbf{A}^T)\\mathbf{x} \n",
    "\\end{eqnarray}\n",
    "$$\n",
    "\n",
    "\n"
   ]
  },
  {
   "cell_type": "markdown",
   "metadata": {},
   "source": [
    "## 스칼라를 행렬로 미분"
   ]
  },
  {
   "cell_type": "markdown",
   "metadata": {},
   "source": [
    "종속 변수가 스칼라 값이고 독립 변수가 행렬인 경우에는 도함수 행렬의 모양이 독립 변수 행렬과 일치한다.\n",
    "\n",
    "$$\n",
    "\\frac{\\partial y}{\\partial \\mathbf{X}} =\n",
    "\\begin{bmatrix}\n",
    "\\frac{\\partial y}{\\partial x_{11}} & \\frac{\\partial y}{\\partial x_{12}} & \\cdots & \\frac{\\partial y}{\\partial x_{1n}}\\\\\n",
    "\\frac{\\partial y}{\\partial x_{21}} & \\frac{\\partial y}{\\partial x_{22}} & \\cdots & \\frac{\\partial y}{\\partial x_{2n}}\\\\\n",
    "\\vdots & \\vdots & \\ddots & \\vdots\\\\\n",
    "\\frac{\\partial y}{\\partial x_{m1}} & \\frac{\\partial y}{\\partial x_{m2}} & \\cdots & \\frac{\\partial y}{\\partial x_{mn}}\\\\\n",
    "\\end{bmatrix}\n",
    "$$"
   ]
  },
  {
   "cell_type": "markdown",
   "metadata": {},
   "source": [
    "## 행렬 미분 규칙"
   ]
  },
  {
   "cell_type": "markdown",
   "metadata": {},
   "source": [
    "trace\n",
    "$$ \\dfrac{\\partial \\text{tr} (\\mathbf{B}\\mathbf{A})}{\\partial \\mathbf{A}} = \\mathbf{B}^T$$"
   ]
  },
  {
   "cell_type": "markdown",
   "metadata": {},
   "source": [
    "(증명)\n",
    "\n",
    "$$ \\text{tr}(\\mathbf{B}\\mathbf{A}) = \\sum_{i=1}^n \\sum_{j=1}^n b_{ji} a_{ij} $$\n",
    "\n",
    "$$ \\dfrac{\\partial \\text{tr} (\\mathbf{B}\\mathbf{A})}{\\partial a_{ij}} = b_{ji} $$ "
   ]
  },
  {
   "cell_type": "markdown",
   "metadata": {},
   "source": [
    "$$ \\dfrac{\\partial \\log \\det \\mathbf{A} }{\\partial \\mathbf{A}} = (\\mathbf{A}^{-1})^T $$"
   ]
  },
  {
   "cell_type": "markdown",
   "metadata": {},
   "source": [
    "(증명) wiki - natrix calculus log determinent? =>절대값기호로 표시했다. a is not a function of X, 오른쪽 열=분모중심, 왼쪽열=분자중심\n",
    "\n",
    "\n",
    "$$ \\dfrac{\\partial}{\\partial a_{i,j}} \\det A = M_{i,j} $$\n",
    "\n",
    "$$ \\dfrac{\\partial}{\\partial A} \\det A = M = (\\det A) A^{-1} $$\n",
    "\n",
    "$$ \\dfrac{d}{dx} \\log f(x) = \\dfrac{f'(x)}{f(x)} = (\\det A) A^{-1} / \\det A = A^{-1}$$"
   ]
  },
  {
   "cell_type": "code",
   "execution_count": null,
   "metadata": {
    "collapsed": true
   },
   "outputs": [],
   "source": []
  }
 ],
 "metadata": {
  "celltoolbar": "Edit Metadata",
  "kernelspec": {
   "display_name": "Python 2",
   "language": "python",
   "name": "python2"
  },
  "language_info": {
   "codemirror_mode": {
    "name": "ipython",
    "version": 2
   },
   "file_extension": ".py",
   "mimetype": "text/x-python",
   "name": "python",
   "nbconvert_exporter": "python",
   "pygments_lexer": "ipython2",
   "version": "2.7.11"
  }
 },
 "nbformat": 4,
 "nbformat_minor": 0
}
